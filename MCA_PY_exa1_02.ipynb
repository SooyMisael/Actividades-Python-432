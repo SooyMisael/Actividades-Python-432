{
  "nbformat": 4,
  "nbformat_minor": 0,
  "metadata": {
    "colab": {
      "provenance": [],
      "authorship_tag": "ABX9TyMpvN19LRcwJZhYLJbTpHls",
      "include_colab_link": true
    },
    "kernelspec": {
      "name": "python3",
      "display_name": "Python 3"
    },
    "language_info": {
      "name": "python"
    }
  },
  "cells": [
    {
      "cell_type": "markdown",
      "metadata": {
        "id": "view-in-github",
        "colab_type": "text"
      },
      "source": [
        "<a href=\"https://colab.research.google.com/github/SooyMisael/Actividades-Python-432/blob/main/MCA_PY_exa1_02.ipynb\" target=\"_parent\"><img src=\"https://colab.research.google.com/assets/colab-badge.svg\" alt=\"Open In Colab\"/></a>"
      ]
    },
    {
      "cell_type": "code",
      "execution_count": 11,
      "metadata": {
        "colab": {
          "base_uri": "https://localhost:8080/"
        },
        "id": "JwQm6KaU-V0N",
        "outputId": "fccd6641-f006-4d6b-f2b9-2ce03f0680fa"
      },
      "outputs": [
        {
          "output_type": "stream",
          "name": "stdout",
          "text": [
            "Dame el numero que gustes de factorial: 7\n",
            "Este es el factorial de 7: 5040\n"
          ]
        }
      ],
      "source": [
        "def Factorial():\n",
        "  i = 1\n",
        "  fact = 1\n",
        "  acumulador = 0\n",
        "  num = int(input(\"Dame el numero que gustes de factorial: \"))\n",
        "  while i <= num:\n",
        "    fact = fact * i\n",
        "    i=i+1\n",
        "  print(f\"Este es el factorial de {num}: {fact}\")\n",
        "\n",
        "Factorial()\n",
        "\n"
      ]
    }
  ]
}