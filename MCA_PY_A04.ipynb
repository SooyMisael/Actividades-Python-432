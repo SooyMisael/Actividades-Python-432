{
  "nbformat": 4,
  "nbformat_minor": 0,
  "metadata": {
    "colab": {
      "provenance": [],
      "authorship_tag": "ABX9TyPjJYh6aDSSiMyqQBUvZl6g",
      "include_colab_link": true
    },
    "kernelspec": {
      "name": "python3",
      "display_name": "Python 3"
    },
    "language_info": {
      "name": "python"
    }
  },
  "cells": [
    {
      "cell_type": "markdown",
      "metadata": {
        "id": "view-in-github",
        "colab_type": "text"
      },
      "source": [
        "<a href=\"https://colab.research.google.com/github/SooyMisael/Actividades-Python-432/blob/main/MCA_PY_A04.ipynb\" target=\"_parent\"><img src=\"https://colab.research.google.com/assets/colab-badge.svg\" alt=\"Open In Colab\"/></a>"
      ]
    },
    {
      "cell_type": "markdown",
      "source": [
        "ACTIVIDAD 4\n",
        "\n",
        "Programa en Python que lea 3 calificaciones calcule le promedio del alumno.\n",
        "\n",
        "Misael Antonio Corral Abris\n",
        "\n",
        "05 de Septiembre del 2023"
      ],
      "metadata": {
        "id": "9tv1XhnRA64r"
      }
    },
    {
      "cell_type": "code",
      "execution_count": 31,
      "metadata": {
        "colab": {
          "base_uri": "https://localhost:8080/",
          "height": 0
        },
        "id": "2BL-pkWWX5z3",
        "outputId": "67d499cc-19ae-4a61-f80b-2f44893a0a77"
      },
      "outputs": [
        {
          "output_type": "stream",
          "name": "stdout",
          "text": [
            "Dame la primera calificacion: 100\n",
            "Dame la segunda calificacion: 80\n",
            "Dame la tercera calificacion: 90\n",
            "Muy bien\n",
            "Su promedio es: 90.0\n"
          ]
        }
      ],
      "source": [
        "try:\n",
        "    cal1 = int(input(\"Dame la primera calificacion: \"))\n",
        "    cal2 = int(input(\"Dame la segunda calificacion: \"))\n",
        "    cal3 = int(input(\"Dame la tercera calificacion: \"))\n",
        "\n",
        "    prom = (cal1 + cal2 + cal3) / 3\n",
        "\n",
        "    if prom < 80:\n",
        "\n",
        "      if prom < 60:\n",
        "\n",
        "        if prom < 30:\n",
        "          print(\"Debe repetir\")\n",
        "\n",
        "        else:\n",
        "          print(\"Extraordinario\")\n",
        "\n",
        "      elif prom < 70:\n",
        "        print(\"Suficiente\")\n",
        "\n",
        "      else:\n",
        "        print(\"Regular\")\n",
        "\n",
        "    elif prom < 98:\n",
        "\n",
        "      if prom < 90:\n",
        "        print(\"Bien\")\n",
        "\n",
        "      else:\n",
        "        print(\"Muy bien\")\n",
        "\n",
        "    elif prom <= 100:\n",
        "      print(\"Excelente\")\n",
        "\n",
        "    print(f\"El promedio es: {round(prom, 2)}\")\n",
        "\n",
        "except ValueError:\n",
        "  print(\"Error en el promedio\")"
      ]
    },
    {
      "cell_type": "markdown",
      "source": [
        "ACTIVIDAD 4\n",
        "\n",
        "Programa en Python que sirva para calcular el salario semanal de un trabajador donde se obtiene como dato de entrada las horas semanalas trabajadas, el salario por hora. El programa debera calcular el salario normal, salario extra y salario total.\n",
        "\n",
        "Misael Antonio Corral Abris\n",
        "\n",
        "05 de Septiembre del 2023\n"
      ],
      "metadata": {
        "id": "c4MNZCmMBY1k"
      }
    },
    {
      "cell_type": "code",
      "source": [
        "try:\n",
        "    hr =int(input(\"Ingrese las horas trabajadas: \"))\n",
        "    pago =int(input(\"Ingrese salario x hora: \"))\n",
        "    jn =int(40)\n",
        "    salario=float(pago * jn)\n",
        "\n",
        "    if hr <= jn:\n",
        "        saltot =float(salario)\n",
        "    else:\n",
        "        if hr <= jn + 9:\n",
        "            extra = int(hr - jn)\n",
        "            adi = float(extra * (pago * 2))\n",
        "            total = float(salario + adi)\n",
        "            print(f\"Usted recibe un salario extra de: \",adi)\n",
        "\n",
        "        else:\n",
        "            if hr >= jn + 10:\n",
        "                extra = int(hr - jn)\n",
        "                adi = float(extra * (pago * 3))\n",
        "                total = float(salario + adi)\n",
        "                print(f\"Usted recibe un salario extra de:\",adi)\n",
        "\n",
        "\n",
        "    print(f\"Salario por hora:\",pago)\n",
        "    print(f\"Horas trabajadas:\",hr)\n",
        "    print(f\"Salario normal:\",salario)\n",
        "    print(f\"Salario total:\",total)\n",
        "except:\n",
        "  print(\"ERROR DE CAPTURA DE DATOS, INTENTALO DE NUEVO\")"
      ],
      "metadata": {
        "colab": {
          "base_uri": "https://localhost:8080/"
        },
        "id": "yWRF1g9bZL7c",
        "outputId": "f4225ff4-5cec-4e18-db77-e927bedf7734"
      },
      "execution_count": null,
      "outputs": [
        {
          "output_type": "stream",
          "name": "stdout",
          "text": [
            "Ingrese las horas trabajadas: e}\n",
            "ERRODE CAPTURA DE DATOS, INTENTALO DE NUEVO\n"
          ]
        }
      ]
    },
    {
      "cell_type": "markdown",
      "source": [
        "ACTIVIDAD 4\n",
        "\n",
        "Programa en Python que sirva para calcular el total a pagar por consumo de agua, donde el dato de entrada son los M3 de agua consumidos.\n",
        "\n"
      ],
      "metadata": {
        "id": "HIb03ma5DKyr"
      }
    },
    {
      "cell_type": "code",
      "source": [
        "try:\n",
        "  mtag=float(input(\"Ingrese los metros cubicos de agua consumidos: \"))\n",
        "  if(mtag<=4):\n",
        "    subtotal=50\n",
        "    iva=subtotal*.16\n",
        "    total=subtotal+iva\n",
        "  else:\n",
        "    if mtag<=15:\n",
        "      subtotal=mtag*8\n",
        "      iva=subtotal*.16\n",
        "      total=subtotal+iva\n",
        "    else:\n",
        "      if(mtag<=50):\n",
        "        subtotal=mtag*10\n",
        "        iva=subtotal*.16\n",
        "        total=subtotal+iva\n",
        "      else:\n",
        "        subtotal=mtag*11\n",
        "        iva=subtotal*.16\n",
        "        total=subtotal+iva\n",
        "  print(\"El subtotal fue de:\",subtotal,\"Pesos\")\n",
        "  print(\"El iva fue de:\",iva,\"Pesos\")\n",
        "  print(\"El total a pagar fue de:\",total,\"Pesos\")\n",
        "except:\n",
        "  print(\"No es una captura de datos adecuada\")"
      ],
      "metadata": {
        "colab": {
          "base_uri": "https://localhost:8080/"
        },
        "id": "fR6yNUBsa7eJ",
        "outputId": "7560d71f-8571-4264-d650-ff87882e4a82"
      },
      "execution_count": null,
      "outputs": [
        {
          "output_type": "stream",
          "name": "stdout",
          "text": [
            "Ingrese los metros cubicos de agua consumidos: cinco\n",
            "No es una captura de datos adecuada\n"
          ]
        }
      ]
    },
    {
      "cell_type": "markdown",
      "source": [
        "ACTIVIDAD 4\n",
        "\n",
        "En la materia de Metodologia de la programacion se aplican 5 examenes, calcular el promedio final de la materia donde a calificacion menor de los examenes se anula y el promedio se calcula en base a 4 examenes.\n",
        "\n",
        "Misael Antonio Corral Abris\n",
        "\n",
        "05 de Septiembre del 2023"
      ],
      "metadata": {
        "id": "byodXJieEW5m"
      }
    },
    {
      "cell_type": "code",
      "source": [
        "try:\n",
        "  exm1=int(input(\"Ingrese la calificacion del examen 1:\"))\n",
        "  exm2=int(input(\"Ingrese la calificacion del examen 2:\"))\n",
        "  exm3=int(input(\"Ingrese la calificacion del examen 3:\"))\n",
        "  exm4=int(input(\"Ingrese la calificacion del examen 4:\"))\n",
        "  exm5=int(input(\"Ingrese la calificacion del examen 5:\"))\n",
        "  menor = exm1\n",
        "  if exm2<menor:\n",
        "    menor = exm2\n",
        "  if exm3<menor:\n",
        "    menor = exm3\n",
        "  if(exm4<menor):\n",
        "    menor = exm4\n",
        "  if(exm5<menor):\n",
        "    menor = exm5\n",
        "  prom=(exm1 + exm2+ exm3 + exm4 + exm5 - menor) / 4\n",
        "  print(f\"El promedio del alumno es: {prom} y el examen menor fue: {menor}\")\n",
        "except:\n",
        "  print(\"Capture bien la informacion por favor\")"
      ],
      "metadata": {
        "colab": {
          "base_uri": "https://localhost:8080/"
        },
        "id": "WvOqq6TkbqtL",
        "outputId": "604d6795-e6a1-46d4-d22e-8e2bd12f4398"
      },
      "execution_count": null,
      "outputs": [
        {
          "output_type": "stream",
          "name": "stdout",
          "text": [
            "Ingrese la calificacion del examen 1:100\n",
            "Ingrese la calificacion del examen 2:60\n",
            "Ingrese la calificacion del examen 3:50\n",
            "Ingrese la calificacion del examen 4:95\n",
            "Ingrese la calificacion del examen 5:80\n",
            "El promedio del alumno es: 83.75 y el examen menor fue: 50\n"
          ]
        }
      ]
    },
    {
      "cell_type": "markdown",
      "source": [
        "ACTIVIDAD 4\n",
        "\n",
        "Programa en Python que sirva para el juego del CHINCHAMPU para 1 jugador y la computadora.\n",
        "\n",
        "Misael Antonio Corral Abris\n",
        "\n",
        "05 de Septiembre del 2023"
      ],
      "metadata": {
        "id": "1B41tIoWEtnC"
      }
    },
    {
      "cell_type": "code",
      "source": [
        "import random\n",
        "piedra=1\n",
        "papel=2\n",
        "tijera=3\n",
        "try:\n",
        "  print(\"B I E N V E N I D O\")\n",
        "  print(\"1. PIEDRA\")\n",
        "  print(\"2. PAPEL\")\n",
        "  print(\"3. TIJERAS\")\n",
        "  j1=int(input(\"Escoge una de las opciones (1-3):\"))\n",
        "  pc= random.randint(1,3)\n",
        "  print(\"Jugador 1 escogio:\",j1,\"Y la maquina escogio:\",pc)\n",
        "  if j1==pc:\n",
        "    print(\"Esto es un empate \")\n",
        "  else:\n",
        "    if j1==piedra:\n",
        "      if pc==papel:\n",
        "        print(\"La maquina ha ganado\")\n",
        "        print(\"Papel gana a Piedra\")\n",
        "      else:\n",
        "        print(\"Jugador 1 ha ganado, felicidades\")\n",
        "        print(\"Piedra gana a Tijera\")\n",
        "    else:\n",
        "      if j1==papel:\n",
        "        if pc==piedra:\n",
        "          print(\"Jugador 1 ha ganado, felicidades\")\n",
        "          print(\"Papel gana a Piedra\")\n",
        "        else:\n",
        "          print(\"La maquina ha ganado, 8(\")\n",
        "          print(\"Tijeras gana a Papel\")\n",
        "      else:\n",
        "        if pc==piedra:\n",
        "          print(\"La maquina ha ganado\")\n",
        "          print(\"Piedra gana a Tijera\")\n",
        "        else:\n",
        "          print(\"Jugador 1 ha ganado, felicidades\")\n",
        "          print(\"Tijera gana a Papel\")\n",
        "except:\n",
        "  print(\"Captura bien tu decision\")"
      ],
      "metadata": {
        "colab": {
          "base_uri": "https://localhost:8080/"
        },
        "id": "zMgCLROZdnEh",
        "outputId": "0127451a-91cc-48a9-f20f-2a0d2a345def"
      },
      "execution_count": null,
      "outputs": [
        {
          "output_type": "stream",
          "name": "stdout",
          "text": [
            "B I E N V E N I D O\n",
            "1. PIEDRA\n",
            "2. PAPEL\n",
            "3. TIJERAS\n",
            "Escoge una de las opciones (1-3):cuatro\n",
            "Captura bien tu decision\n"
          ]
        }
      ]
    },
    {
      "cell_type": "markdown",
      "source": [
        "ACTIVIDAD 4\n",
        "\n",
        "Programa en Python que lea 4 numeros enteros desplegar cuales el menor, cual es mayor.\n",
        "\n",
        "Misael Antonio Corral Abris\n",
        "\n",
        "05 de Septiembre del 2023"
      ],
      "metadata": {
        "id": "TiHH_gwPFRpO"
      }
    },
    {
      "cell_type": "code",
      "source": [
        "try:\n",
        "  num1 = int(input(\"Ingresa el numero 1: \"))\n",
        "  num2 = int(input(\"Ingresa el numero 2: \"))\n",
        "  num3 = int(input(\"Ingresa el numero 3: \"))\n",
        "  num4 = int(input(\"Ingresa el numero 4: \"))\n",
        "  men = num1\n",
        "  may = num1\n",
        "  if num2 < men:\n",
        "    men = num2\n",
        "  if num3 < men:\n",
        "    men = num3\n",
        "  if num4 < men:\n",
        "    men = num4\n",
        "  print(f\"Este es el numero menor de los 4: {men}\")\n",
        "  if num2 > may:\n",
        "    may = num2\n",
        "  if num3 > may:\n",
        "    may = num3\n",
        "  if num4 > may:\n",
        "    may = num4\n",
        "  print(f\"Este es el numero mayor de los 4: {may}\")\n",
        "except:\n",
        "  print(\"Capture bien los numeros\")"
      ],
      "metadata": {
        "colab": {
          "base_uri": "https://localhost:8080/"
        },
        "id": "SY2KncwrjDPl",
        "outputId": "208114ab-a77e-4dcb-f099-13eccfb6f544"
      },
      "execution_count": null,
      "outputs": [
        {
          "output_type": "stream",
          "name": "stdout",
          "text": [
            "Ingresa el numero 1: 2\n",
            "Ingresa el numero 2: 10\n",
            "Ingresa el numero 3: 5\n",
            "Ingresa el numero 4: 6\n",
            "Este es el numero menor de los 4: 2\n",
            "Este es el numero mayor de los 4: 10\n"
          ]
        }
      ]
    },
    {
      "cell_type": "markdown",
      "source": [
        "ACTIVIDAD 4\n",
        "\n",
        "Programa en Python que sirva para calcular el area de un triangulo, los datos de entrada deben ser forzosamente de tipo real.\n",
        "\n",
        "Misael Antonio Corral Abris\n",
        "\n",
        "05 de Septiembre del 2023"
      ],
      "metadata": {
        "id": "tNDO_gkVFmTL"
      }
    },
    {
      "cell_type": "code",
      "source": [
        "try:\n",
        "  base = float(input(\"Ingrese el valor de la base: \"))\n",
        "  alt = float(input(\"Ingrese el valor de la altura: \"))\n",
        "  area = (base * alt) / 2\n",
        "  print(f\"El area del triangulo es: {area}\")\n",
        "except:\n",
        "  print(\"Los datos que ingresaste no son correctos\")"
      ],
      "metadata": {
        "colab": {
          "base_uri": "https://localhost:8080/"
        },
        "id": "ie8DX4CPjDMH",
        "outputId": "50e1c8cb-9502-4b85-cc8e-beccc8ae0809"
      },
      "execution_count": null,
      "outputs": [
        {
          "output_type": "stream",
          "name": "stdout",
          "text": [
            "Ingrese el valor de la base: 12\n",
            "Ingrese el valor de la altura: 18.90\n",
            "El area del triangulo es: 113.39999999999999\n"
          ]
        }
      ]
    },
    {
      "cell_type": "markdown",
      "source": [
        "ACTIVIDAD 4\n",
        "\n",
        "Programa en Python que sirva para calcular el area de un circulo.\n",
        "\n",
        "Misael Antonio Corral Abris\n",
        "\n",
        "05 de Septiembre del 2023"
      ],
      "metadata": {
        "id": "ZrBiYmKKGAOM"
      }
    },
    {
      "cell_type": "code",
      "source": [
        "pi = 3.1416\n",
        "try:\n",
        "  radio = float(input(\"Ingresa el radio del circulo: \"))\n",
        "  area = (pi * pow(radio, 2))\n",
        "  print(f\"Ela rea del circulo es: {area}\")\n",
        "except:\n",
        "  print(\"El dato que ingresaste no es correcto\")"
      ],
      "metadata": {
        "id": "jNI8aenGr8OT",
        "colab": {
          "base_uri": "https://localhost:8080/"
        },
        "outputId": "6de3110b-9ebe-42c8-df55-3babd44aebd2"
      },
      "execution_count": null,
      "outputs": [
        {
          "output_type": "stream",
          "name": "stdout",
          "text": [
            "Ingresa el radio del circulo: 5\n",
            "Ela rea del circulo es: 78.53999999999999\n"
          ]
        }
      ]
    }
  ]
}