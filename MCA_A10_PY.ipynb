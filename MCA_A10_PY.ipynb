{
  "nbformat": 4,
  "nbformat_minor": 0,
  "metadata": {
    "colab": {
      "provenance": [],
      "authorship_tag": "ABX9TyOyl5IclrKpNKsGOKPr+0p/",
      "include_colab_link": true
    },
    "kernelspec": {
      "name": "python3",
      "display_name": "Python 3"
    },
    "language_info": {
      "name": "python"
    }
  },
  "cells": [
    {
      "cell_type": "markdown",
      "metadata": {
        "id": "view-in-github",
        "colab_type": "text"
      },
      "source": [
        "<a href=\"https://colab.research.google.com/github/SooyMisael/Actividades-Python-432/blob/main/MCA_A10_PY.ipynb\" target=\"_parent\"><img src=\"https://colab.research.google.com/assets/colab-badge.svg\" alt=\"Open In Colab\"/></a>"
      ]
    },
    {
      "cell_type": "code",
      "execution_count": 1,
      "metadata": {
        "id": "Le20L8USumH5"
      },
      "outputs": [],
      "source": [
        "import random\n",
        "from tabulate import tabulate"
      ]
    },
    {
      "cell_type": "code",
      "source": [
        "dic={\"ID\":\"\",\"Nombre\":\"\",\"Apellido Materno\":\"\",\"Apellido Paterno\":\"\",\"Sexo\":\"\",\"Edad\":\"\"}"
      ],
      "metadata": {
        "id": "RJUAOiLDu030"
      },
      "execution_count": 2,
      "outputs": []
    },
    {
      "cell_type": "code",
      "source": [
        "base=[]\n",
        "hombres=[\"HUGO\",\"MARTIN\",'LUCAS','MATEO','LEO','DANIEL','ALEJANDRO','DANIEL','ALVARO','ADRIAN','DAVID','MARIO','DIEGO','MARCOS','JAVIER']\n",
        "mujeres=[\"SOFIA\",\"LUCIA\",'MARIA','PAULA','DANIELA','VALERIA','JULIA','CLAUDIA','JIMENA','ROMINA','IRENE','MARTINA','SARA','LAURA','LUCY','ADELINE','ALICE','ELIZABETH','SAMANTHA','OLIVIA','AMALIA']\n",
        "appaterno=[\"ARENAS\", 'CARMONA','CORDOVA','DELGADO','FERNANDEZ','FUENTES','HERNANDEZ','MARTINEZ','MALDONADO','JUAREZ','HERRERA','LEON','GUERRERO','ORTIZ','REYES','VARGAS','ROMERO','PEREZ','NAVA','SALCEDO']\n",
        "apmaterno=[\"FLORES\",'ACOSTA','LUGO','RAMOS','GARCIA','HERNANDEZ','GONZALEZ','CARRILLO','TEJEDA','VARGAS','SANCHEZ','ESCALONA','CRUZ','HUERTA','SOSA','PERALTA','ESTRADA','CAMPOS','RIOS','MARCIAL']\n",
        "sexo=[\"Hombre\",\"Mujer\"]"
      ],
      "metadata": {
        "id": "A_p9ddS5u4wA"
      },
      "execution_count": 3,
      "outputs": []
    },
    {
      "cell_type": "code",
      "source": [
        "def generarnombre():\n",
        "    j=1\n",
        "    while j<=10:\n",
        "        sex=random.choice(sexo)\n",
        "        if sex==\"Hombre\":\n",
        "          base.append({\"ID\":random.randrange(0,1000),\"Nombre\":random.choice(hombres),\"Apellido Paterno\":random.choice(appaterno),\"Apellido Materno\":random.choice(apmaterno),\"Edad\": random.randrange(18,60),\"Sexo\":\"Hombre\"})\n",
        "          j=j+1\n",
        "        else:\n",
        "          base.append({\"ID\":random.randrange(0,1000),\"Nombre\":random.choice(mujeres),\"Apellido Paterno\":random.choice(appaterno),\"Apellido Materno\":random.choice(apmaterno),\"Edad\": random.randrange(18,60),\"Sexo\":\"Mujer\"})\n",
        "          j=j+1"
      ],
      "metadata": {
        "id": "fBJJpo_RvSqP"
      },
      "execution_count": 4,
      "outputs": []
    },
    {
      "cell_type": "code",
      "source": [
        "def imprimir():\n",
        "    print(tabulate(base))"
      ],
      "metadata": {
        "id": "MbPFDl7QvV71"
      },
      "execution_count": 5,
      "outputs": []
    },
    {
      "cell_type": "code",
      "source": [
        "def busqueda():\n",
        "      bandera=True\n",
        "      buscar=int(input(\"Ingrese el ID: \"))\n",
        "      for h in base:\n",
        "        if buscar == h[\"ID\"]:\n",
        "          print(\"ID:\", h[\"ID\"])\n",
        "          print(\"Nombre:\", h[\"Nombre\"])\n",
        "          print(\"ap. paterno:\", h[\"Apellido Paterno\"])\n",
        "          print(\"ap. materno:\", h[\"Apellido Materno\"])\n",
        "          print(\"Edad:\", h[\"Edad\"])\n",
        "          print(\"Sexo:\", h[\"Sexo\"])\n",
        "          bandera=False\n",
        "      if bandera==True:\n",
        "          print(\"El ID que ingresaste no se encuentra\")"
      ],
      "metadata": {
        "id": "plPAgoaHvZdi"
      },
      "execution_count": 6,
      "outputs": []
    },
    {
      "cell_type": "code",
      "source": [
        "def ordenar():\n",
        "    base.sort(key=lambda h: h[\"ID\"])\n",
        "    print(\"Se ha ordenado exitosamente\")"
      ],
      "metadata": {
        "id": "MFPqxRlRvc97"
      },
      "execution_count": 7,
      "outputs": []
    },
    {
      "cell_type": "code",
      "source": [
        "def eliminar():\n",
        "    bandera=True\n",
        "    elim=int(input(\"Ingese ID a eliminar:\"))\n",
        "    for e in base.copy():\n",
        "        if e[\"ID\"] == elim:\n",
        "            base.remove(e)\n",
        "            bandera=False\n",
        "    if bandera==True:\n",
        "        print(\"El ID ingresado fue eliminado\")"
      ],
      "metadata": {
        "id": "9IjrOT3yvgSM"
      },
      "execution_count": 8,
      "outputs": []
    },
    {
      "cell_type": "code",
      "source": [
        "def menu():\n",
        "    while True:\n",
        "        print(\"M E N U\")\n",
        "        print(\"1. Generar Datos\")\n",
        "        print(\"2. Desplegar\")\n",
        "        print(\"3. Buscar\")\n",
        "        print(\"4. Ordenar\")\n",
        "        print(\"5. Eliminar\")\n",
        "        print(\"0. Salir\")\n",
        "        try:\n",
        "            op=int(input(\"Ingrese una opcion: \"))\n",
        "            if op == 1:\n",
        "                generarnombre()\n",
        "            elif op == 2:\n",
        "                imprimir()\n",
        "            elif op == 3:\n",
        "                busqueda()\n",
        "            elif op == 4:\n",
        "                ordenar()\n",
        "            elif op == 5:\n",
        "                eliminar()\n",
        "            elif op == 0:\n",
        "                False\n",
        "                break\n",
        "        except:\n",
        "            continue\n",
        "menu()"
      ],
      "metadata": {
        "colab": {
          "base_uri": "https://localhost:8080/",
          "height": 0
        },
        "id": "gC-sbuLVvkL_",
        "outputId": "81344e91-3a3a-4079-f4b1-b7a3a2d30ed2"
      },
      "execution_count": 9,
      "outputs": [
        {
          "name": "stdout",
          "output_type": "stream",
          "text": [
            "M E N U\n",
            "1. Generar Datos\n",
            "2. Desplegar\n",
            "3. Buscar\n",
            "4. Ordenar\n",
            "5. Eliminar\n",
            "0. Salir\n",
            "Ingrese una opcion: 1\n",
            "M E N U\n",
            "1. Generar Datos\n",
            "2. Desplegar\n",
            "3. Buscar\n",
            "4. Ordenar\n",
            "5. Eliminar\n",
            "0. Salir\n",
            "Ingrese una opcion: 2\n",
            "---  -------  -------  --------  --  ------\n",
            "  6  VALERIA  CARMONA  CRUZ      45  Mujer\n",
            "573  ALVARO   PEREZ    TEJEDA    28  Hombre\n",
            " 64  LEO      ORTIZ    ESTRADA   23  Hombre\n",
            "336  DIEGO    JUAREZ   ESTRADA   56  Hombre\n",
            "987  DAVID    ARENAS   LUGO      45  Hombre\n",
            "127  LEO      CARMONA  VARGAS    20  Hombre\n",
            "763  DAVID    DELGADO  LUGO      48  Hombre\n",
            "740  IRENE    ARENAS   CAMPOS    18  Mujer\n",
            "963  LUCAS    SALCEDO  CARRILLO  18  Hombre\n",
            "968  ALVARO   REYES    SANCHEZ   51  Hombre\n",
            "---  -------  -------  --------  --  ------\n",
            "M E N U\n",
            "1. Generar Datos\n",
            "2. Desplegar\n",
            "3. Buscar\n",
            "4. Ordenar\n",
            "5. Eliminar\n",
            "0. Salir\n",
            "Ingrese una opcion: 3\n",
            "Ingrese el ID: 64\n",
            "ID: 64\n",
            "Nombre: LEO\n",
            "ap. paterno: ORTIZ\n",
            "ap. materno: ESTRADA\n",
            "Edad: 23\n",
            "Sexo: Hombre\n",
            "M E N U\n",
            "1. Generar Datos\n",
            "2. Desplegar\n",
            "3. Buscar\n",
            "4. Ordenar\n",
            "5. Eliminar\n",
            "0. Salir\n",
            "Ingrese una opcion: 4\n",
            "Se ha ordenado exitosamente\n",
            "M E N U\n",
            "1. Generar Datos\n",
            "2. Desplegar\n",
            "3. Buscar\n",
            "4. Ordenar\n",
            "5. Eliminar\n",
            "0. Salir\n",
            "Ingrese una opcion: 2\n",
            "---  -------  -------  --------  --  ------\n",
            "  6  VALERIA  CARMONA  CRUZ      45  Mujer\n",
            " 64  LEO      ORTIZ    ESTRADA   23  Hombre\n",
            "127  LEO      CARMONA  VARGAS    20  Hombre\n",
            "336  DIEGO    JUAREZ   ESTRADA   56  Hombre\n",
            "573  ALVARO   PEREZ    TEJEDA    28  Hombre\n",
            "740  IRENE    ARENAS   CAMPOS    18  Mujer\n",
            "763  DAVID    DELGADO  LUGO      48  Hombre\n",
            "963  LUCAS    SALCEDO  CARRILLO  18  Hombre\n",
            "968  ALVARO   REYES    SANCHEZ   51  Hombre\n",
            "987  DAVID    ARENAS   LUGO      45  Hombre\n",
            "---  -------  -------  --------  --  ------\n",
            "M E N U\n",
            "1. Generar Datos\n",
            "2. Desplegar\n",
            "3. Buscar\n",
            "4. Ordenar\n",
            "5. Eliminar\n",
            "0. Salir\n",
            "Ingrese una opcion: 5\n",
            "Ingese ID a eliminar:64\n",
            "M E N U\n",
            "1. Generar Datos\n",
            "2. Desplegar\n",
            "3. Buscar\n",
            "4. Ordenar\n",
            "5. Eliminar\n",
            "0. Salir\n",
            "Ingrese una opcion: 2\n",
            "---  -------  -------  --------  --  ------\n",
            "  6  VALERIA  CARMONA  CRUZ      45  Mujer\n",
            "127  LEO      CARMONA  VARGAS    20  Hombre\n",
            "336  DIEGO    JUAREZ   ESTRADA   56  Hombre\n",
            "573  ALVARO   PEREZ    TEJEDA    28  Hombre\n",
            "740  IRENE    ARENAS   CAMPOS    18  Mujer\n",
            "763  DAVID    DELGADO  LUGO      48  Hombre\n",
            "963  LUCAS    SALCEDO  CARRILLO  18  Hombre\n",
            "968  ALVARO   REYES    SANCHEZ   51  Hombre\n",
            "987  DAVID    ARENAS   LUGO      45  Hombre\n",
            "---  -------  -------  --------  --  ------\n",
            "M E N U\n",
            "1. Generar Datos\n",
            "2. Desplegar\n",
            "3. Buscar\n",
            "4. Ordenar\n",
            "5. Eliminar\n",
            "0. Salir\n",
            "Ingrese una opcion: 0\n"
          ]
        }
      ]
    }
  ]
}