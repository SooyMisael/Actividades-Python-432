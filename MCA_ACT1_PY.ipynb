{
  "nbformat": 4,
  "nbformat_minor": 0,
  "metadata": {
    "colab": {
      "provenance": [],
      "authorship_tag": "ABX9TyPbyYglklyH1GGYS3rsdvuh",
      "include_colab_link": true
    },
    "kernelspec": {
      "name": "python3",
      "display_name": "Python 3"
    },
    "language_info": {
      "name": "python"
    }
  },
  "cells": [
    {
      "cell_type": "markdown",
      "metadata": {
        "id": "view-in-github",
        "colab_type": "text"
      },
      "source": [
        "<a href=\"https://colab.research.google.com/github/SooyMisael/Actividades-Python-432/blob/main/MCA_ACT1_PY.ipynb\" target=\"_parent\"><img src=\"https://colab.research.google.com/assets/colab-badge.svg\" alt=\"Open In Colab\"/></a>"
      ]
    },
    {
      "cell_type": "markdown",
      "source": [
        "MCA_ACT1_01\n",
        "\n",
        "Programa en Python mostrar un mensaje que diga \"HOLA MUNDO\" en un solo rebglon usando 2 print\n",
        "\n",
        "Misael Antonio Corral Abris\n",
        "\n",
        "19 de Agosto del 2023"
      ],
      "metadata": {
        "id": "UleI-cXc3chW"
      }
    },
    {
      "cell_type": "code",
      "execution_count": null,
      "metadata": {
        "colab": {
          "base_uri": "https://localhost:8080/"
        },
        "id": "05h1_86HfLwk",
        "outputId": "695f9262-a5dd-4a51-a7fc-7e8d0be9f948"
      },
      "outputs": [
        {
          "output_type": "stream",
          "name": "stdout",
          "text": [
            "Hola MUNDO\n"
          ]
        }
      ],
      "source": [
        "print(\"Hola\",end=\" \")\n",
        "print(\"MUNDO\")"
      ]
    },
    {
      "cell_type": "markdown",
      "source": [
        "MCA_ACT1_02\n",
        "\n",
        "Programa en Python ue lea 2 numeros, realizar la suma y desplegar la suma de los 2 numeros.\n",
        "\n",
        "Misael Antonio Cooral Abris\n",
        "\n",
        "19 de Agosto del 2023"
      ],
      "metadata": {
        "id": "vMYRN_e233xp"
      }
    },
    {
      "cell_type": "code",
      "source": [
        "num1 = int(input(\"Dame el valor del primer numero:\"))\n",
        "num2 = int(input(\"Dame el valor del segundo numero:\"))\n",
        "resu = num1 + num2\n",
        "print(\"Este es el resultado de la suma:\",resu)"
      ],
      "metadata": {
        "colab": {
          "base_uri": "https://localhost:8080/"
        },
        "id": "Ppp1bz4Sfi4R",
        "outputId": "2e571508-b770-4b7c-dddb-7e74f268fc29"
      },
      "execution_count": null,
      "outputs": [
        {
          "output_type": "stream",
          "name": "stdout",
          "text": [
            "Dame el valor del primer numero:5\n",
            "Dame el valor del segundo numero:5\n",
            "Este es el resultado de la suma: 10\n"
          ]
        }
      ]
    },
    {
      "cell_type": "markdown",
      "source": [
        "MCA_ACT1_03\n",
        "\n",
        "Programa en Python que lea 2 numeros y realice las 4 operaciones basicas.\n",
        "\n",
        "Misael Antonio Corral Abris\n",
        "\n",
        "19 de Agosto del 2023"
      ],
      "metadata": {
        "id": "qk-QwBr24Kw-"
      }
    },
    {
      "cell_type": "code",
      "source": [
        "num1 = int(input(\"Dame el valor del numero 1: \"))\n",
        "num2 = int(input(\"Dame el valor del numero 2: \"))\n",
        "sum = num1 + num2\n",
        "multi = num1 * num2\n",
        "res = num1 - num2\n",
        "div = num1 / num2\n",
        "print(\"Este es el resultado de la suma: \",sum)\n",
        "print(\"Este es el resultado de la resta: \",res)\n",
        "print(\"Este es el resultado de la multiplicacion: \",multi)\n",
        "print(\"Este es el resultado de la division: \",div)"
      ],
      "metadata": {
        "id": "oGLxdWjqghCA",
        "colab": {
          "base_uri": "https://localhost:8080/"
        },
        "outputId": "77690b6b-ddf9-4657-fdb5-2c740cfbdf4c"
      },
      "execution_count": null,
      "outputs": [
        {
          "output_type": "stream",
          "name": "stdout",
          "text": [
            "Dame el valor del numero 1: 12\n",
            "Dame el valor del numero 2: 6\n",
            "Este es el resultado de la suma:  18\n",
            "Este es el resultado de la resta:  6\n",
            "Este es el resultado de la multiplicacion:  72\n",
            "Este es el resultado de la division:  2.0\n"
          ]
        }
      ]
    },
    {
      "cell_type": "markdown",
      "source": [
        "MCA_ACT1_04\n",
        "\n",
        "Programa en Python que sirva para calculr el area de un triangulo.\n",
        "\n",
        "Misael Antonio Corral Abris\n",
        "\n",
        "19 de Agosto del 2023"
      ],
      "metadata": {
        "id": "3wiSuPLD4X68"
      }
    },
    {
      "cell_type": "code",
      "source": [
        "altura = float(input(\"Dame el valor de la altura: \"))\n",
        "base = float(input(\"Dame el valor de la base: \"))\n",
        "area = (base * altura) / 2\n",
        "print(\"Este es el valor del are del triangulo: \",area)"
      ],
      "metadata": {
        "colab": {
          "base_uri": "https://localhost:8080/"
        },
        "id": "xeKbAxCnQIS1",
        "outputId": "4fe5abbb-0c1f-4a33-ad04-23e5af274889"
      },
      "execution_count": null,
      "outputs": [
        {
          "output_type": "stream",
          "name": "stdout",
          "text": [
            "Dame el valor de la altura: 12.5\n",
            "Dame el valor de la base: 5.5\n",
            "Este es el valor del are del triangulo:  34.375\n"
          ]
        }
      ]
    },
    {
      "cell_type": "markdown",
      "source": [
        "MCA_ACT1_05\n",
        "\n",
        "Programa en Python que lea una medida en centimetros y desplegar la misma medida pero convertida en pies y pulgadas.\n",
        "\n",
        "Misael Antonio Corral Abris\n",
        "\n",
        "19 de Agosto del 2023"
      ],
      "metadata": {
        "id": "3hXFtyUe4xQY"
      }
    },
    {
      "cell_type": "code",
      "source": [
        "cm = float(input(\"Dame el los centietros que quieres convertir: \"))\n",
        "feet = cm * 0.032808\n",
        "pulg = cm * 0.39370\n",
        "print(\"Este es el convertido en pies: \",feet)\n",
        "print(\"Este es el convertido en pulgadas: \",pulg)"
      ],
      "metadata": {
        "colab": {
          "base_uri": "https://localhost:8080/"
        },
        "id": "wbUYI4xNQ2NB",
        "outputId": "ae700569-0cd8-4395-f025-a7b6539013b2"
      },
      "execution_count": null,
      "outputs": [
        {
          "output_type": "stream",
          "name": "stdout",
          "text": [
            "Dame el los centietros que quieres convertir: 30\n",
            "Este es el convertido en pies:  0.9842399999999999\n",
            "Este es el convertido en pulgadas:  11.811\n"
          ]
        }
      ]
    },
    {
      "cell_type": "markdown",
      "source": [
        "MCA_ACT1_06\n",
        "\n",
        "Programa en Python que lea una temperatura en grados cetigrados y desplegarla en grados Fahrenheit y grados Kelvin.\n",
        "\n",
        "Misael Antonio Corral Abris\n",
        "\n",
        "19 de Agosto del 2023"
      ],
      "metadata": {
        "id": "U3mXB46i5CuT"
      }
    },
    {
      "cell_type": "code",
      "source": [
        "cent = int(input(\"Dame los centigrados que quieres convertir:\"))\n",
        "F = (cent * 1.8000) + 32\n",
        "K = cent + 273.15\n",
        "print(\"Grados en Fahrenheit: \",F)\n",
        "print(\"Grados en Kelvin:\",K)"
      ],
      "metadata": {
        "colab": {
          "base_uri": "https://localhost:8080/"
        },
        "id": "jHOOZRhPSOsQ",
        "outputId": "e3435ebf-82f0-4e1a-ca41-dc843576b491"
      },
      "execution_count": null,
      "outputs": [
        {
          "output_type": "stream",
          "name": "stdout",
          "text": [
            "Dame los centigrados que quieres convertir:21\n",
            "Grados en Fahrenheit:  69.80000000000001\n",
            "Grados en Kelvin: 294.15\n"
          ]
        }
      ]
    },
    {
      "cell_type": "markdown",
      "source": [
        "**MCA_ACT1_07**\n",
        "\n",
        "Programa e Python que lea 4 calificaciones d un alumno, desplegar el promedio del alumno.\n",
        "\n",
        "Misael Antonio Corral Abris\n",
        "\n",
        "19 de Agosto del 2023\n",
        "**texto en negrita**\n",
        "\n",
        "\n"
      ],
      "metadata": {
        "id": "cNa24SyA5Tim"
      }
    },
    {
      "cell_type": "code",
      "source": [
        "cal1 = int(input(\"Dame la primera calificacion: \"))\n",
        "cal2 = int(input(\"Dame la segunda calificacion: \"))\n",
        "cal3 = int(input(\"Dame la tercera calificacion: \"))\n",
        "cal4 = int(input(\"Dame la cuarta calificacion: \"))\n",
        "prom = (cal1 + cal2 + cal3 + cal4) / 4\n",
        "print(f\"Este es el promedio del alumno:{prom}\")"
      ],
      "metadata": {
        "colab": {
          "base_uri": "https://localhost:8080/"
        },
        "id": "ykSq_PGnTnYQ",
        "outputId": "9e77861e-e744-44a0-d822-b41e6cb9be3c"
      },
      "execution_count": null,
      "outputs": [
        {
          "output_type": "stream",
          "name": "stdout",
          "text": [
            "Dame la primera calificacion: 80\n",
            "Dame la segunda calificacion: 90\n",
            "Dame la tercera calificacion: 70\n",
            "Dame la cuarta calificacion: 67\n",
            "Este es el promedio del alumno:76.75\n"
          ]
        }
      ]
    }
  ]
}