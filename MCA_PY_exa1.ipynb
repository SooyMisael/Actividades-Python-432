{
  "nbformat": 4,
  "nbformat_minor": 0,
  "metadata": {
    "colab": {
      "provenance": [],
      "authorship_tag": "ABX9TyOjg6FJmVKPRkcikJVf47bX",
      "include_colab_link": true
    },
    "kernelspec": {
      "name": "python3",
      "display_name": "Python 3"
    },
    "language_info": {
      "name": "python"
    }
  },
  "cells": [
    {
      "cell_type": "markdown",
      "metadata": {
        "id": "view-in-github",
        "colab_type": "text"
      },
      "source": [
        "<a href=\"https://colab.research.google.com/github/SooyMisael/Actividades-Python-432/blob/main/MCA_PY_exa1.ipynb\" target=\"_parent\"><img src=\"https://colab.research.google.com/assets/colab-badge.svg\" alt=\"Open In Colab\"/></a>"
      ]
    },
    {
      "cell_type": "code",
      "execution_count": 2,
      "metadata": {
        "id": "qtTOkzod5j4y"
      },
      "outputs": [],
      "source": [
        "import random"
      ]
    },
    {
      "cell_type": "code",
      "source": [
        "def Num_Aleatorio():\n",
        "  i = 0\n",
        "  list = []\n",
        "  while i < 30:\n",
        "    num = random.randint(20,100)\n",
        "    list.append(num)\n",
        "    i=i+1\n",
        "  print(list)\n",
        "\n",
        "\n",
        "print(\"Esta es la lista hecha:\")\n",
        "Num_Aleatorio()"
      ],
      "metadata": {
        "colab": {
          "base_uri": "https://localhost:8080/"
        },
        "id": "dGaHVeL05uLI",
        "outputId": "83cab5d3-bcf2-48a6-a871-38b03112af84"
      },
      "execution_count": 7,
      "outputs": [
        {
          "output_type": "stream",
          "name": "stdout",
          "text": [
            "Esta es la lista hecha:\n",
            "[44, 57, 51, 82, 71, 21, 100, 55, 78, 32, 84, 64, 90, 71, 38, 66, 87, 54, 21, 46, 68, 78, 93, 70, 37, 28, 53, 22, 33, 23]\n"
          ]
        }
      ]
    }
  ]
}