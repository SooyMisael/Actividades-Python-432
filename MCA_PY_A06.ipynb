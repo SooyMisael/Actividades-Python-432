{
  "nbformat": 4,
  "nbformat_minor": 0,
  "metadata": {
    "colab": {
      "provenance": [],
      "authorship_tag": "ABX9TyOz5EG+0ndO9ElgegdJMDr5",
      "include_colab_link": true
    },
    "kernelspec": {
      "name": "python3",
      "display_name": "Python 3"
    },
    "language_info": {
      "name": "python"
    }
  },
  "cells": [
    {
      "cell_type": "markdown",
      "metadata": {
        "id": "view-in-github",
        "colab_type": "text"
      },
      "source": [
        "<a href=\"https://colab.research.google.com/github/SooyMisael/Actividades-Python-432/blob/main/MCA_PY_A06.ipynb\" target=\"_parent\"><img src=\"https://colab.research.google.com/assets/colab-badge.svg\" alt=\"Open In Colab\"/></a>"
      ]
    },
    {
      "cell_type": "markdown",
      "source": [
        "ACTIVIDAD 6\n",
        "\n",
        "FUNCIONES PARA SER LLAMADAS EN EL MENU\n",
        "\n",
        "1.- FUNCIÓN QUE LEA n CANTIDAD DE NÚMEROS HASTA QUE EL USUARIO LO DESEE, DESPLEGAR LA SUMA DE LOS NÚMEROS, MEDIA Y VALOR DE LOS NÚMEROS MAYORES Y MENORES.\n",
        "\n",
        "\n",
        "\n",
        "2.- FUNCIÓN QUE GENERE 15 NÚMEROS IMPARES ENTRE 10 Y 60 o MÁXIMO DE 25 NÚMEROS. DESPLEGAR LA MEDIA DE LOS PARES Y MEDIA DE IMPARES.\n",
        "\n",
        "\n",
        "\n",
        "3.- FUNCIÓN QUE SIRVA PARA LEER UN RANGO DADO POR EL USUARIO. REPETIR ESTA ACCIÓN HASTA QUE EL USUARIO LO DESEE, DESPLEGAR CANTIDAD DE NUMEROS Y PROMEDIO DE LOS NUMEROS..\n",
        "\n",
        "\n",
        "\n",
        "4.- FUNCIÓN QUE RECIBA COMO PARÁMETRO LOS VALORES PARA EL ÁREA DE UN TRIANGULO Y RETORNE SU RESULTADO\n",
        "\n",
        "\n",
        "\n",
        "5.- FUNCION QUE SIRVA QUE SIRVA PARA EVALUAR EL PROMEDIO DE 3 CALIFICACIONES DADAS, SI EL USUARIO SU CALIFICACION ES APROBADA MANDAR MSGE QUE DIGA \"felicidades avanzas al siguiente semestre\", SI LA CALIFICACIONE ESTA REPROBADA EL MENSAGE \"repetir materia \" EL ALUMNO TENDRA UN MAXIMO DE CURSAR 3 VESES LA MATERIA, SI LA REPRUEBA 3 VESES MANDAR MSGE \" lastima estas fuera de la UABC\"\n",
        "\n"
      ],
      "metadata": {
        "id": "1kK66RlRwxnD"
      }
    },
    {
      "cell_type": "code",
      "source": [
        "import random\n",
        "from IPython.display import clear_output"
      ],
      "metadata": {
        "id": "4VvZ8J2MRoVC"
      },
      "execution_count": 1,
      "outputs": []
    },
    {
      "cell_type": "code",
      "source": [
        "def Validad(inf,sup,msge=\"Ingresa una opcion: \",msgerror=\"Ingrese de nuevo una opcion\"):\n",
        "  num=0\n",
        "  while True:\n",
        "     try:\n",
        "       num=int(input(msge))\n",
        "       if num>=inf and num<=sup:\n",
        "         return num\n",
        "         break\n",
        "       else:\n",
        "         print(\"El numero que ingreso no es valido\")\n",
        "     except:\n",
        "       print(msgerror)\n",
        "       continue"
      ],
      "metadata": {
        "id": "g-NucMhutNwZ"
      },
      "execution_count": 2,
      "outputs": []
    },
    {
      "cell_type": "code",
      "source": [
        "def Vali_num(inf,sup,msge=\"Ingresa el promedio\",msgerror=\"ERROR\"):\n",
        "  num=0\n",
        "  while True:\n",
        "     try:\n",
        "       num=int(input(msge))\n",
        "       if num>=inf and num<=sup:\n",
        "         return num\n",
        "         break\n",
        "       else:\n",
        "         print(\"El numero que ingreso no es valido\")\n",
        "     except:\n",
        "       print(msgerror)\n",
        "       continue"
      ],
      "metadata": {
        "id": "CjehSVAB6dTd"
      },
      "execution_count": 3,
      "outputs": []
    },
    {
      "cell_type": "code",
      "source": [
        "def operaciones():\n",
        "  num = int(input(\"Dame un numero: \"))\n",
        "  suma = 0\n",
        "  contador = 0\n",
        "  num_mayor = num\n",
        "  num_menor = num\n",
        "\n",
        "  while(True):\n",
        "      suma += num\n",
        "      contador += 1\n",
        "      seguir = input(\"Quieres continuar? s/n: \")\n",
        "\n",
        "      if seguir == \"s\":\n",
        "          num = int(input(\"Dame otro numero: \"))\n",
        "          if num > num_mayor:\n",
        "              num_mayor = num\n",
        "          elif num < num_menor:\n",
        "              num_menor = num\n",
        "      else:\n",
        "          break\n",
        "\n",
        "  print(f\"Suma de los numeros: {suma}\\nPromedio: {suma / contador}\")\n",
        "  print(f\"El numero mayor es: {num_mayor}\\nEl numero menor es: {num_menor}\")"
      ],
      "metadata": {
        "id": "BeAJjTwevHJK"
      },
      "execution_count": 4,
      "outputs": []
    },
    {
      "cell_type": "code",
      "source": [
        "from random import randint\n",
        "\n",
        "def impares():\n",
        "    suma_par = 0\n",
        "    suma_impar = 0\n",
        "    contador_par = 0\n",
        "    contador_impar = 0\n",
        "\n",
        "    for i in range(25):\n",
        "        num = randint(10, 60)\n",
        "\n",
        "        if num%2 == 0:\n",
        "            contador_par += 1\n",
        "            suma_par += num\n",
        "            print(f\"{num} -- Par\")\n",
        "        else:\n",
        "            contador_impar += 1\n",
        "            suma_impar += num\n",
        "            print(f\"{num} -- Impar\")\n",
        "\n",
        "            if contador_impar == 15:\n",
        "                break\n",
        "\n",
        "    print(f\"Media de pares: {suma_par / contador_par}\")\n",
        "    print(f\"Media de impares: {suma_impar / contador_impar}\")\n"
      ],
      "metadata": {
        "id": "CEJIBw0Kv5e2"
      },
      "execution_count": 5,
      "outputs": []
    },
    {
      "cell_type": "code",
      "source": [
        "\n",
        "def rango():\n",
        "    contador = 0\n",
        "    suma = 0\n",
        "    min = int(input(\"Cual quieres que sea el numero minimo del rango: \"))\n",
        "    max = int(input(\"Cual quieres que sea el numero maximo del rango: \"))\n",
        "    num = int(input(\"Dame un numero a validar: \"))\n",
        "\n",
        "    while(True):\n",
        "        if num in range(min, max):\n",
        "            suma += num\n",
        "            contador += 1\n",
        "            seguir = input(\"Numero validado, quieres continuar? s/n: \")\n",
        "\n",
        "            if seguir == \"s\":\n",
        "                num = int(input(\"Dame otro numero a validar: \"))\n",
        "            else:\n",
        "                break\n",
        "        else:\n",
        "            seguir = input(\"Numero no esta dentro del rango, quieres continuar? s/n: \")\n",
        "\n",
        "            if seguir == \"s\":\n",
        "                num = int(input(\"Dame otro numero a validar: \"))\n",
        "            else:\n",
        "                break\n",
        "\n",
        "    print(f\"La cantidad de numeros validados es de: {contador}\")\n",
        "    print(f\"El promedio de los numeros validados es de: {suma / contador}\")"
      ],
      "metadata": {
        "id": "ZllUnX2Tw_ak"
      },
      "execution_count": 6,
      "outputs": []
    },
    {
      "cell_type": "code",
      "source": [
        "def area_triangulo():\n",
        "    base = float(input(\"Dame el valor de la base: \"))\n",
        "    altura = float(input(\"Dame el valor de la altura: \"))\n",
        "    area = (base * altura) / 2\n",
        "\n",
        "    print(f\"El area del triangulo es: {area}\")\n"
      ],
      "metadata": {
        "id": "YHTiIqtQyTLC"
      },
      "execution_count": 7,
      "outputs": []
    },
    {
      "cell_type": "code",
      "source": [
        "def Promedio_uabc():\n",
        "   i=1\n",
        "   intento=0\n",
        "   for i in range(3):\n",
        "    promedio=Vali_num(0,100)\n",
        "    if promedio>=60:\n",
        "      print(\"Felicidades, avanzas al siguiente semestre\")\n",
        "      break\n",
        "    elif promedio < 60:\n",
        "      print(\"Repetir materia\")\n",
        "    intento=intento+1\n",
        "    i=i+1\n",
        "    print(f\"Este es el intento:{intento}\")\n",
        "    continue\n",
        "    if intento==3:\n",
        "      break\n",
        "   else:\n",
        "      print(\"REPROBASTE 3 VECES\")\n",
        "      print(\"Lastima estas fuera de la UABC\")\n"
      ],
      "metadata": {
        "id": "zUzf8I_rzOn9"
      },
      "execution_count": 8,
      "outputs": []
    },
    {
      "cell_type": "code",
      "execution_count": 9,
      "metadata": {
        "id": "jwPtjep3Rd8L",
        "colab": {
          "base_uri": "https://localhost:8080/",
          "height": 0
        },
        "outputId": "07511d89-5b90-43bb-b74f-df5580743116"
      },
      "outputs": [
        {
          "output_type": "stream",
          "name": "stdout",
          "text": [
            "--------MENU---------\n",
            "1. Cantidad de numeros\n",
            "2. Numeros impares\n",
            "3. Promedio de los numeros\n",
            "4. Area de un triangulo\n",
            "5. Evaluacion del promedio\n",
            "0. Salir\n",
            "Ingresa una opcion: 0\n",
            "GRACIAS POR USAR EL PROGRAMA\n"
          ]
        }
      ],
      "source": [
        "\n",
        "\n",
        "def Menu():\n",
        "  while True:\n",
        "    print(\"--------MENU---------\")\n",
        "    print(\"1. Cantidad de numeros\")\n",
        "    print(\"2. Numeros impares\")\n",
        "    print(\"3. Promedio de los numeros\")\n",
        "    print(\"4. Area de un triangulo\")\n",
        "    print(\"5. Evaluacion del promedio\")\n",
        "    print(\"0. Salir\")\n",
        "    op=Validad(0,5)\n",
        "    if op==1:\n",
        "      clear_output()\n",
        "      operaciones()\n",
        "      input(\"Presione enter para borrar pantalla\")\n",
        "      clear_output()\n",
        "    elif op==2:\n",
        "      clear_output()\n",
        "      impares()\n",
        "      input(\"Presione enter para borrar pantalla\")\n",
        "      clear_output()\n",
        "    elif op==3:\n",
        "      clear_output()\n",
        "      rango()\n",
        "      input(\"Presione enter para borrar pantalla\")\n",
        "      clear_output()\n",
        "    elif op==4:\n",
        "      clear_output()\n",
        "      area_triangulo()\n",
        "      input(\"Presione enter para borrar pantalla\")\n",
        "      clear_output()\n",
        "    elif op==5:\n",
        "      clear_output()\n",
        "      Promedio_uabc()\n",
        "      input(\"Presione enter para borrar pantalla\")\n",
        "      clear_output()\n",
        "    elif op==0:\n",
        "      print(\"GRACIAS POR USAR EL PROGRAMA\")\n",
        "      break\n",
        "\n",
        "Menu()\n"
      ]
    }
  ]
}