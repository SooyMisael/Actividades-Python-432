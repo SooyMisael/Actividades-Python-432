{
  "nbformat": 4,
  "nbformat_minor": 0,
  "metadata": {
    "colab": {
      "provenance": [],
      "authorship_tag": "ABX9TyOFTqM9fTA0x12WUDt8hITv",
      "include_colab_link": true
    },
    "kernelspec": {
      "name": "python3",
      "display_name": "Python 3"
    },
    "language_info": {
      "name": "python"
    }
  },
  "cells": [
    {
      "cell_type": "markdown",
      "metadata": {
        "id": "view-in-github",
        "colab_type": "text"
      },
      "source": [
        "<a href=\"https://colab.research.google.com/github/SooyMisael/Actividades-Python-432/blob/main/MCA_PY_A05.ipynb\" target=\"_parent\"><img src=\"https://colab.research.google.com/assets/colab-badge.svg\" alt=\"Open In Colab\"/></a>"
      ]
    },
    {
      "cell_type": "markdown",
      "source": [
        "PRACTICA 5\n",
        "\n",
        "Programa en Python que genere 40 numeros aleatorios entre el 0 y 2000, desplegar los numeros y la leyenda de cada numero si es par o impar, la cantidad de los numeros pares e impares asi como la suma de los numeros pares o impares\n",
        "\n",
        "Misael Antonio Corral Abris\n",
        "\n",
        "12 de Septiembre del 2023"
      ],
      "metadata": {
        "id": "Mtq420SZFBOQ"
      }
    },
    {
      "cell_type": "code",
      "execution_count": null,
      "metadata": {
        "colab": {
          "base_uri": "https://localhost:8080/"
        },
        "id": "GGQmjP9VDra4",
        "outputId": "fdfb26f9-3f77-42cc-d425-f9870c0a0876"
      },
      "outputs": [
        {
          "output_type": "stream",
          "name": "stdout",
          "text": [
            "Este numero es par: 44\n",
            "Este numero es par: 96\n",
            "Este numero es par: 154\n",
            "Este numero es par: 176\n",
            "Este numero es impar:59\n",
            "La suma de los numeros pares es:470\n",
            "Esta es la suma de los numeros impares:59\n",
            "Esta es la cantidad de numeros pares:4\n",
            "Esta es la cantidad de numeros impares:1\n"
          ]
        }
      ],
      "source": [
        "import random\n",
        "i=0\n",
        "par=0\n",
        "sumpar=0\n",
        "sumimpar=0\n",
        "impar=0\n",
        "for i in range(5):\n",
        "  num=random.randrange(0,200)\n",
        "  if num%2==0:\n",
        "    par=par+1\n",
        "    sumpar=sumpar+num\n",
        "    print(f\"Este numero es par: {num}\")\n",
        "  else:\n",
        "    impar=impar+1\n",
        "    sumimpar=sumimpar+num\n",
        "    print(f\"Este numero es impar:{num}\")\n",
        "  i=i+1\n",
        "print(f\"La suma de los numeros pares es:{sumpar}\")\n",
        "print(f\"Esta es la suma de los numeros impares:{sumimpar}\")\n",
        "print(f\"Esta es la cantidad de numeros pares:{par}\")\n",
        "print(f\"Esta es la cantidad de numeros impares:{impar}\")"
      ]
    },
    {
      "cell_type": "markdown",
      "source": [
        "ACTIVIDAD 5\n",
        "\n",
        "Programa en Python que despliegue la tabla e multiplicar de un numero dado(numero etre el 1 y 20)\n",
        "\n",
        "Misael Antonio Corral Abris\n",
        "\n",
        "12 de Septiembre del 2023"
      ],
      "metadata": {
        "id": "oqOgMmEQI_Bm"
      }
    },
    {
      "cell_type": "code",
      "source": [
        "i=1\n",
        "try:\n",
        "  num=int(input(\"Ingresa el numero de la tabla de multiplicar\"))\n",
        "  if num<1 or num>20:\n",
        "    raise ValueError(\"Estas fuera del rango\")\n",
        "except ValueError as e:\n",
        "  print(\"ERROR:\", e)\n",
        "else:\n",
        "  print(f\"-----------TABLA DEL {num}-----------\")\n",
        "  while i<=10:\n",
        "    multi=num*i\n",
        "    print(f\"{num} X {i} = {multi}\")\n",
        "    i=i+1"
      ],
      "metadata": {
        "colab": {
          "base_uri": "https://localhost:8080/"
        },
        "id": "TIDAYlQbI9-7",
        "outputId": "9a7bce16-7489-449b-8713-2172c6000f9c"
      },
      "execution_count": null,
      "outputs": [
        {
          "output_type": "stream",
          "name": "stdout",
          "text": [
            "Ingresa el numero de la tabla de multiplicar20\n",
            "-----------TABLA DEL 20-----------\n",
            "20 X 1 = 20\n",
            "20 X 2 = 40\n",
            "20 X 3 = 60\n",
            "20 X 4 = 80\n",
            "20 X 5 = 100\n",
            "20 X 6 = 120\n",
            "20 X 7 = 140\n",
            "20 X 8 = 160\n",
            "20 X 9 = 180\n",
            "20 X 10 = 200\n"
          ]
        }
      ]
    },
    {
      "cell_type": "markdown",
      "source": [
        "ACTIVIDAD 5\n",
        "\n",
        "Programa en Python que lea una calificación, las calificación deberá estar en el rango de 0 a 100, si hay un error de captura, mostrar mensaje de error. con la calificación correcta mostrar msg de aprobado reprobado.\n",
        "\n",
        "Misael Antonio Corral Abris\n",
        "\n",
        "14 de septiembre del 2023"
      ],
      "metadata": {
        "id": "oNkcRodxexSq"
      }
    },
    {
      "cell_type": "code",
      "source": [
        "try:\n",
        "  cal=int(input(\"Ingresa la calificacion: \"))\n",
        "  if cal<0 or cal>100:\n",
        "    raise ValueError(\"El numero que ingresaste no esta en el rango\")\n",
        "except ValueError as e:\n",
        "  print(\"ERROR DE CAPTURA:\",e)\n",
        "else:\n",
        "  if cal>=60:\n",
        "    print(\"APROBADO\")\n",
        "  else:\n",
        "    print(\"REPROBADO\")"
      ],
      "metadata": {
        "colab": {
          "base_uri": "https://localhost:8080/"
        },
        "id": "5dQ5dvVDJhPz",
        "outputId": "f1648316-675c-4e00-c3df-f8c04169d242"
      },
      "execution_count": null,
      "outputs": [
        {
          "output_type": "stream",
          "name": "stdout",
          "text": [
            "Ingresa la calificacion: 65\n",
            "APROBADO\n"
          ]
        }
      ]
    },
    {
      "cell_type": "markdown",
      "source": [
        "ACTIVIDAD 5\n",
        "\n",
        "Programa en Python que lea n cantidad de números enteros dentro de un rango dado (> 0 ) , el programa deberá terminar cuando el usuario introduzca el número cero.\n",
        "\n",
        "desplegar la suma de números y la media.\n",
        "\n",
        "Misael Antonio Corral Abris\n",
        "\n",
        "14 de Septiembre del 2023"
      ],
      "metadata": {
        "id": "LYAXKsHze-MI"
      }
    },
    {
      "cell_type": "code",
      "source": [
        "  i=1\n",
        "  sumnum=0\n",
        "  cant=0\n",
        "  while i!=0:\n",
        "    try:\n",
        "      num=int(input(\"Ingresa el numero:\"))\n",
        "      if num < 0:\n",
        "        raise ValueError(\"Estas fuera del rango\")\n",
        "    except ValueError as e:\n",
        "      print(f\"ERROR: {e}\")\n",
        "    else:\n",
        "      if num>0:\n",
        "        sumnum=sumnum+num\n",
        "        cant=cant+1\n",
        "      else:\n",
        "        break\n",
        "      i=i+1\n",
        "  med=sumnum/cant\n",
        "  print(\"La suma de los numeros:\",sumnum)\n",
        "  print(\"La media de los numeros:\",med)"
      ],
      "metadata": {
        "colab": {
          "base_uri": "https://localhost:8080/"
        },
        "id": "tkzgnzfkQC7G",
        "outputId": "f0f8218a-dd84-4a93-836b-5e820af5358f"
      },
      "execution_count": null,
      "outputs": [
        {
          "output_type": "stream",
          "name": "stdout",
          "text": [
            "Ingresa el numero:12\n",
            "Ingresa el numero:13\n",
            "Ingresa el numero:14\n",
            "Ingresa el numero:15\n",
            "Ingresa el numero:0\n",
            "La suma de los numeros: 54\n",
            "La media de los numeros: 13.5\n"
          ]
        }
      ]
    },
    {
      "cell_type": "markdown",
      "source": [
        "ACTIVIDAD 5\n",
        "\n",
        "Programa en Python que sirva para leer el promedio de una materia. donde el usuario tendrá un máximo de 3 oportunidades de cursar la materia, si el promedio es aprobado, felicitarlo y continuar el siguiente semestre, si promedio es reprobado deberá salir mensaje de repetir materia o es baja académica si ha reprobado 3 veces.\n",
        "\n",
        "Misael Antonio Corral Abris\n",
        "\n",
        "14 de Septiembre del 2023"
      ],
      "metadata": {
        "id": "2vhLw7q5fIdi"
      }
    },
    {
      "cell_type": "code",
      "source": [
        "i=1\n",
        "for i in range(3):\n",
        "    promedio=int(input(\"Escribe tu promedio:\"))\n",
        "    if promedio < 0 or promedio > 100:\n",
        "      continue\n",
        "    if promedio>=60:\n",
        "      print(\"APROBASTE, PUEDES PASAR AL SIG SEMESTRE\")\n",
        "      break\n",
        "    elif promedio < 60:\n",
        "      print(\"REPROBASTE,TIENE QUE REPETIR\")\n",
        "    i=i+1\n",
        "    continue\n",
        "else:\n",
        "    print(\"REPORBASTE 3 VECES\")\n",
        "    print(\"BAJA ACADEMICA\")"
      ],
      "metadata": {
        "colab": {
          "base_uri": "https://localhost:8080/"
        },
        "id": "7fVPPLyJS2TE",
        "outputId": "d08ef0bd-ef40-4c65-f10e-82b64399f079"
      },
      "execution_count": null,
      "outputs": [
        {
          "output_type": "stream",
          "name": "stdout",
          "text": [
            "Escribe tu promedio:67\n",
            "APROBASTE, PUEDES PASAR AL SIG SEMESTRE\n"
          ]
        }
      ]
    },
    {
      "cell_type": "markdown",
      "source": [
        "ACTIVIDAD 5 PARTE 2\n",
        "\n",
        "función que lea n cantidad de números hasta que el usuario lo desee, desplegar la suma de los números, media y valor de los números mayores y menores.\n",
        "\n",
        "Misael Antonio Corral Abris\n",
        "\n",
        "14 de Septiembre del 2023"
      ],
      "metadata": {
        "id": "wgesAvBofRWM"
      }
    },
    {
      "cell_type": "code",
      "source": [
        "def operaciones():\n",
        "  num = int(input(\"Dame un numero: \"))\n",
        "  suma = 0\n",
        "  contador = 0\n",
        "  num_mayor = num\n",
        "  num_menor = num\n",
        "\n",
        "  while(True):\n",
        "      suma += num\n",
        "      contador += 1\n",
        "      seguir = input(\"Quieres continuar? s/n: \")\n",
        "\n",
        "      if seguir == \"s\":\n",
        "          num = int(input(\"Dame otro numero: \"))\n",
        "          if num > num_mayor:\n",
        "              num_mayor = num\n",
        "          elif num < num_menor:\n",
        "              num_menor = num\n",
        "      else:\n",
        "          break\n",
        "\n",
        "  print(f\"Suma de los numeros: {suma}\\nPromedio: {suma / contador}\")\n",
        "  print(f\"El numero mayor es: {num_mayor}\\nEl numero menor es: {num_menor}\")\n",
        "operaciones()\n"
      ],
      "metadata": {
        "colab": {
          "base_uri": "https://localhost:8080/"
        },
        "id": "d262md0Atrdu",
        "outputId": "750f4639-ba0d-4f54-a46a-837239642862"
      },
      "execution_count": null,
      "outputs": [
        {
          "output_type": "stream",
          "name": "stdout",
          "text": [
            "Dame un numero: 23\n",
            "Quieres continuar? s/n: s\n",
            "Dame otro numero: 50\n",
            "Quieres continuar? s/n: n\n",
            "Suma de los numeros: 73\n",
            "Promedio: 36.5\n",
            "El numero mayor es: 50\n",
            "El numero menor es: 23\n"
          ]
        }
      ]
    },
    {
      "cell_type": "markdown",
      "source": [
        "ACTIVIDAD 5 PARTE 2\n",
        "\n",
        "función que genere 15 números impares entre 10 y 60 o máximo de 25 números. desplegar la media de los pares y media de impares.\n",
        "\n",
        "Misael Antonio Corral Abris\n",
        "\n",
        "14 de Septiembre del 2023"
      ],
      "metadata": {
        "id": "dt8gn1OYfa_i"
      }
    },
    {
      "cell_type": "code",
      "source": [
        "from random import randint\n",
        "\n",
        "def impares():\n",
        "    suma_par = 0\n",
        "    suma_impar = 0\n",
        "    contador_par = 0\n",
        "    contador_impar = 0\n",
        "\n",
        "    for i in range(25):\n",
        "        num = randint(10, 60)\n",
        "\n",
        "        if num%2 == 0:\n",
        "            contador_par += 1\n",
        "            suma_par += num\n",
        "            print(f\"{num} -- Par\")\n",
        "        else:\n",
        "            contador_impar += 1\n",
        "            suma_impar += num\n",
        "            print(f\"{num} -- Impar\")\n",
        "\n",
        "            if contador_impar == 15:\n",
        "                break\n",
        "\n",
        "    print(f\"Media de pares: {suma_par / contador_par}\")\n",
        "    print(f\"Media de impares: {suma_impar / contador_impar}\")\n",
        "\n",
        "impares()"
      ],
      "metadata": {
        "id": "g4B6UVp91Jvq",
        "colab": {
          "base_uri": "https://localhost:8080/"
        },
        "outputId": "7836098f-fcc9-4860-82b3-6ee145b5018b"
      },
      "execution_count": 3,
      "outputs": [
        {
          "output_type": "stream",
          "name": "stdout",
          "text": [
            "50 -- Par\n",
            "12 -- Par\n",
            "39 -- Impar\n",
            "13 -- Impar\n",
            "40 -- Par\n",
            "33 -- Impar\n",
            "29 -- Impar\n",
            "46 -- Par\n",
            "22 -- Par\n",
            "26 -- Par\n",
            "52 -- Par\n",
            "20 -- Par\n",
            "15 -- Impar\n",
            "26 -- Par\n",
            "59 -- Impar\n",
            "46 -- Par\n",
            "47 -- Impar\n",
            "54 -- Par\n",
            "20 -- Par\n",
            "13 -- Impar\n",
            "18 -- Par\n",
            "32 -- Par\n",
            "55 -- Impar\n",
            "17 -- Impar\n",
            "59 -- Impar\n",
            "Media de pares: 33.142857142857146\n",
            "Media de impares: 34.45454545454545\n"
          ]
        }
      ]
    },
    {
      "cell_type": "markdown",
      "source": [
        "ACTIVIDAD 5 PARTE 2\n",
        "\n",
        "función que sirva para leer y validar un número dentro de un rango dado por el usuario. repetir esta acción hasta que el usuario lo desee, desplegar cantidad de números y promedio de los números..\n",
        "\n",
        "Misael Antonio Corral Abris\n",
        "\n",
        "14 de Septiembre del 2023"
      ],
      "metadata": {
        "id": "fQmu7IOFfkNw"
      }
    },
    {
      "cell_type": "code",
      "source": [
        "def rango(min, max):\n",
        "    contador = 0\n",
        "    suma = 0\n",
        "    num = int(input(\"Dame un numero a validar: \"))\n",
        "\n",
        "    while(True):\n",
        "        if num in range(min, max):\n",
        "            suma += num\n",
        "            contador += 1\n",
        "            seguir = input(\"Numero validado, quieres continuar? s/n: \")\n",
        "\n",
        "            if seguir == \"s\":\n",
        "                num = int(input(\"Dame otro numero a validar: \"))\n",
        "            else:\n",
        "                break\n",
        "        else:\n",
        "            seguir = input(\"Numero no esta dentro del rango, quieres continuar? s/n: \")\n",
        "\n",
        "            if seguir == \"s\":\n",
        "                num = int(input(\"Dame otro numero a validar: \"))\n",
        "            else:\n",
        "                break\n",
        "\n",
        "    print(f\"La cantidad de numeros validados es de: {contador}\")\n",
        "    print(f\"El promedio de los numeros validados es de: {suma / contador}\")\n",
        "\n",
        "min = int(input(\"Cual quieres que sea el numero minimo del rango: \"))\n",
        "max = int(input(\"Cual quieres que sea el numero maximo del rango: \"))\n",
        "rango(min, max)"
      ],
      "metadata": {
        "id": "-7vxEhYr1XD-",
        "colab": {
          "base_uri": "https://localhost:8080/"
        },
        "outputId": "85ed0256-0069-427d-83db-9334b1ad791e"
      },
      "execution_count": 4,
      "outputs": [
        {
          "output_type": "stream",
          "name": "stdout",
          "text": [
            "Cual quieres que sea el numero minimo del rango: 10\n",
            "Cual quieres que sea el numero maximo del rango: 20\n",
            "Dame un numero a validar: 22\n",
            "Numero no esta dentro del rango, quieres continuar? s/n: s\n",
            "Dame otro numero a validar: 15\n",
            "Numero validado, quieres continuar? s/n: n\n",
            "La cantidad de numeros validados es de: 1\n",
            "La media de los numeros validados es de: 15.0\n"
          ]
        }
      ]
    },
    {
      "cell_type": "markdown",
      "source": [
        "ACTIVIDAD 5 PARTE 2\n",
        "\n",
        "función que reciba como parámetro los valores para el área de un triángulo y retorne su resultado\n",
        "\n",
        "Misael Antonio Corral Abris\n",
        "\n",
        "14 de Septiembre del 2023"
      ],
      "metadata": {
        "id": "AHnEgkD7fsIS"
      }
    },
    {
      "cell_type": "code",
      "source": [
        "def area_triangulo(base, altura):\n",
        "    area = (base * altura) / 2\n",
        "\n",
        "    return print(f\"El area del triangulo es: {area}\")\n",
        "\n",
        "base = float(input(\"Dame el valor de la base: \"))\n",
        "altura = float(input(\"Dame el valor de la altura: \"))\n",
        "\n",
        "area_triangulo(base, altura)"
      ],
      "metadata": {
        "colab": {
          "base_uri": "https://localhost:8080/"
        },
        "id": "onqxHE_81eR2",
        "outputId": "aba0c639-8f93-4999-81eb-fd102d962d6b"
      },
      "execution_count": null,
      "outputs": [
        {
          "output_type": "stream",
          "name": "stdout",
          "text": [
            "Dame el valor de la base: 12\n",
            "Dame el valor de la altura: 7\n",
            "El area del triangulo es: 42.0\n"
          ]
        }
      ]
    },
    {
      "cell_type": "markdown",
      "source": [
        "ACTIVIDAD 5 PARTE 2\n",
        "\n",
        "función que sirva para validar un número dentro de un rango dado.\n",
        "\n",
        "Misael Antonio Corral Abris\n",
        "\n",
        "14 de septiembre del 2023"
      ],
      "metadata": {
        "id": "hHjUfQT3f1K_"
      }
    },
    {
      "cell_type": "code",
      "source": [
        "def validar(min, max):\n",
        "    num = int(input(\"Dame un numero a validar: \"))\n",
        "    if num in range(min, max):\n",
        "        print(\"El numero esta dentro del rango\")\n",
        "    else:\n",
        "        print(\"El numero no esta dentro del rango\")\n",
        "\n",
        "min = int(input(\"Valor minimo del rango: \"))\n",
        "max = int(input(\"Valor maximo del rango: \"))\n",
        "validar(min, max)"
      ],
      "metadata": {
        "id": "k6XFT4hz1hiF",
        "colab": {
          "base_uri": "https://localhost:8080/"
        },
        "outputId": "b5e89e57-a81c-4161-e3b5-823478d17801"
      },
      "execution_count": 5,
      "outputs": [
        {
          "output_type": "stream",
          "name": "stdout",
          "text": [
            "Valor minimo del rango: 10\n",
            "Valor maximo del rango: 20\n",
            "Dame un numero a validar: 23\n",
            "El numero no esta dentro del rango\n"
          ]
        }
      ]
    }
  ]
}