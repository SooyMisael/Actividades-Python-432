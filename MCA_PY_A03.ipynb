{
  "nbformat": 4,
  "nbformat_minor": 0,
  "metadata": {
    "colab": {
      "provenance": [],
      "authorship_tag": "ABX9TyMX/k0HR4ceBAJeCpFFNAxb",
      "include_colab_link": true
    },
    "kernelspec": {
      "name": "python3",
      "display_name": "Python 3"
    },
    "language_info": {
      "name": "python"
    }
  },
  "cells": [
    {
      "cell_type": "markdown",
      "metadata": {
        "id": "view-in-github",
        "colab_type": "text"
      },
      "source": [
        "<a href=\"https://colab.research.google.com/github/SooyMisael/Actividades-Python-432/blob/main/MCA_PY_A03.ipynb\" target=\"_parent\"><img src=\"https://colab.research.google.com/assets/colab-badge.svg\" alt=\"Open In Colab\"/></a>"
      ]
    },
    {
      "cell_type": "markdown",
      "source": [
        "ACTIVIDAD 3\n",
        "\n",
        "Algoritmo que lea 3 calificaciones calcule el promedio del alumno.\n",
        "\n",
        "Misael Antonio Corral Abris\n",
        "\n",
        "29 de Agosto del 2023"
      ],
      "metadata": {
        "id": "taWf4t46IbkU"
      }
    },
    {
      "cell_type": "code",
      "source": [
        "cal1=int(input(\"Dame la primera calificacion: \"))\n",
        "cal2=int(input(\"Dame la segunda calificacion: \"))\n",
        "cal3=int(input(\"Dame la tercera calificacion:\"))\n",
        "prom=(cal1+cal2+cal3)/3\n",
        "if(prom>=30):\n",
        "  if prom>=60:\n",
        "    if(prom>=70):\n",
        "      if(prom>=80):\n",
        "        if(prom>=90):\n",
        "          if(prom>=98):\n",
        "            if(prom>100):\n",
        "              print(\"ERROR DE PROMEDIO\")\n",
        "          else:\n",
        "            print(\"EXCELENTE\")\n",
        "        else:\n",
        "          print(\"MUY BIEN\")\n",
        "      else:\n",
        "        print(\"Estas Bien\")\n",
        "    else:\n",
        "      print(\"ERES REGULAR\")\n",
        "  else:\n",
        "    print(\"SUFICIENTE\")\n",
        "else:\n",
        "  print(\"Tienes que repetir\")\n",
        "\n"
      ],
      "metadata": {
        "colab": {
          "base_uri": "https://localhost:8080/",
          "height": 0
        },
        "id": "Z-jiNJom95Gt",
        "outputId": "eaac3db4-c6e9-4ce4-98a6-083097793b0e"
      },
      "execution_count": 13,
      "outputs": [
        {
          "output_type": "stream",
          "name": "stdout",
          "text": [
            "Dame la primera calificacion: 56\n",
            "Dame la segunda calificacion: 89\n",
            "Dame la tercera calificacion:90\n",
            "Estas Bien\n"
          ]
        }
      ]
    },
    {
      "cell_type": "markdown",
      "source": [
        "ACTIVIDAD 3\n",
        "\n",
        "Algortimo que sirva para calcular el salario semanal de un trabajador donde se obtiene como dato de entrada las horas semanalas trabajadas, el salario por hora. El programa debera calcular el salario normal, salario extra y salario total.\n",
        "\n",
        "Misael Antonio Corral Abris\n",
        "\n",
        "29 de agosto del 2023\n"
      ],
      "metadata": {
        "id": "aqicR3iOIfQj"
      }
    },
    {
      "cell_type": "code",
      "source": [
        "hr =int(input(\"Ingrese las horas trabajadas: \"))\n",
        "pago =int(input(\"Ingrese salario x hora: \"))\n",
        "jn =int(40)\n",
        "salario=float(pago * jn)\n",
        "\n",
        "if hr <= jn:\n",
        "    saltot =float(salario)\n",
        "else:\n",
        "    if hr <= jn + 9:\n",
        "        extra = int(hr - jn)\n",
        "        adi = float(extra * (pago * 2))\n",
        "        total = float(salario + adi)\n",
        "        print(f\"Usted recibe un salario extra de: \",adi)\n",
        "\n",
        "    else:\n",
        "        if hr >= jn + 10:\n",
        "            extra = int(hr - jn)\n",
        "            adi = float(extra * (pago * 3))\n",
        "            total = float(salario + adi)\n",
        "            print(f\"Usted recibe un salario extra de:\",adi)\n",
        "\n",
        "\n",
        "print(f\"Salario por hora:\",pago)\n",
        "print(f\"Horas trabajadas:\",hr)\n",
        "print(f\"Salario normal:\",salario)\n",
        "print(f\"Salario total:\",total)"
      ],
      "metadata": {
        "colab": {
          "base_uri": "https://localhost:8080/",
          "height": 0
        },
        "id": "1otqYhfA9-5a",
        "outputId": "2217587b-ca9b-4623-dd52-8b23686891f6"
      },
      "execution_count": 14,
      "outputs": [
        {
          "output_type": "stream",
          "name": "stdout",
          "text": [
            "Ingrese las horas trabajadas: 50\n",
            "Ingrese salario x hora: 18\n",
            "Usted recibe un salario extra de: 540.0\n",
            "Salario por hora: 18\n",
            "Horas trabajadas: 50\n",
            "Salario normal: 720.0\n",
            "Salario total: 1260.0\n"
          ]
        }
      ]
    },
    {
      "cell_type": "markdown",
      "source": [
        "ACTIVIDAD 3\n",
        "\n",
        "Algoritmo que sirva para calcular el total a pagar por cosumo de agua, donde el dato de entrada son los M3 de agua consumido, tomar en cuenta que se cobra escalonada.\n",
        "\n",
        "Misael Antonio Corral Abris\n",
        "\n",
        "29 de Agosto del 2023"
      ],
      "metadata": {
        "id": "P8zpAtFgI-qZ"
      }
    },
    {
      "cell_type": "code",
      "source": [
        "mtag=float(input(\"Ingrese los metros cubicos de agua consumidos: \"))\n",
        "if(mtag<=4):\n",
        "  subtotal=50\n",
        "  iva=subtotal*.16\n",
        "  total=subtotal+iva\n",
        "else:\n",
        "  if mtag<=15:\n",
        "    subtotal=mtag*8\n",
        "    iva=subtotal*.16\n",
        "    total=subtotal+iva\n",
        "  else:\n",
        "    if(mtag<=50):\n",
        "      subtotal=mtag*10\n",
        "      iva=subtotal*.16\n",
        "      total=subtotal+iva\n",
        "    else:\n",
        "      subtotal=mtag*11\n",
        "      iva=subtotal*.16\n",
        "      total=subtotal+iva\n",
        "print(\"El subtotal fue de:\",subtotal,\"Pesos\")\n",
        "print(\"El iva fue de:\",iva,\"Pesos\")\n",
        "print(\"El total a pagar fue de:\",total,\"Pesos\")"
      ],
      "metadata": {
        "colab": {
          "base_uri": "https://localhost:8080/",
          "height": 0
        },
        "id": "mGpN8RmO-D7P",
        "outputId": "7ddce6b2-22a1-423c-c724-e4c93caf0efe"
      },
      "execution_count": 15,
      "outputs": [
        {
          "output_type": "stream",
          "name": "stdout",
          "text": [
            "Ingrese los metros cubicos de agua consumidos: 50\n",
            "El subtotal fue de: 500.0 Pesos\n",
            "El iva fue de: 80.0 Pesos\n",
            "El total a pagar fue de: 580.0 Pesos\n"
          ]
        }
      ]
    },
    {
      "cell_type": "markdown",
      "source": [
        "ACTIVIDAD 3\n",
        "\n",
        "En la materia de Metodología de la programación se aplican 5 exámenes, calcular el promedio final de la materia donde la calificación menor de los exámenes se anula y el promedio se calcula en base a 4 exámenes.\n",
        "\n",
        "Misael Antonio Corral Abris\n",
        "\n",
        "29 de Agosto del 2023"
      ],
      "metadata": {
        "id": "XHZkj0jVJREt"
      }
    },
    {
      "cell_type": "code",
      "source": [
        "exm1=int(input(\"Ingrese la calificacion del examen 1:\"))\n",
        "exm2=int(input(\"Ingrese la calificacion del examen 2:\"))\n",
        "exm3=int(input(\"Ingrese la calificacion del examen 3:\"))\n",
        "exm4=int(input(\"Ingrese la calificacion del examen 4:\"))\n",
        "exm5=int(input(\"Ingrese la calificacion del examen 5:\"))\n",
        "menor = exm1\n",
        "if exm2<menor:\n",
        "  menor = exm2\n",
        "if exm3<menor:\n",
        "  menor = exm3\n",
        "if(exm4<menor):\n",
        "  menor = exm4\n",
        "if(exm5<menor):\n",
        "  menor = exm5\n",
        "prom=(exm1 + exm2+ exm3 + exm4 + exm5 - menor) / 4\n",
        "print(f\"El promedio del alumno es: {prom}\")\n"
      ],
      "metadata": {
        "colab": {
          "base_uri": "https://localhost:8080/",
          "height": 0
        },
        "id": "MDqOqy7x-JYo",
        "outputId": "cc6c023a-7ae7-4e98-a071-c55d0d473b36"
      },
      "execution_count": 29,
      "outputs": [
        {
          "output_type": "stream",
          "name": "stdout",
          "text": [
            "Ingrese la calificacion del examen 1:100\n",
            "Ingrese la calificacion del examen 2:90\n",
            "Ingrese la calificacion del examen 3:80\n",
            "Ingrese la calificacion del examen 4:70\n",
            "Ingrese la calificacion del examen 5:60\n",
            "El promedio del alumno es: 85.0\n"
          ]
        }
      ]
    },
    {
      "cell_type": "markdown",
      "source": [
        "ACTIVIDAD 3\n",
        "\n",
        "Algoritmo que sirva para desplegar el total de una llamada telefonica donde se pide como datos de entrada los minutos y el tipo de llamada.\n",
        "\n",
        "Misael Antonio Corral Abris\n",
        "\n",
        "29 de Agosto del 2023"
      ],
      "metadata": {
        "id": "SmB-hhuJJX5Q"
      }
    },
    {
      "cell_type": "code",
      "source": [
        "print(\"M E N U \")\n",
        "print(\"1. LLAMADA LOCAL\")\n",
        "print(\"2. LLAMADA NACIONAL\")\n",
        "print(\"3. LLAMADA INTERNACIONAL\")\n",
        "op=int(input(\"Escoge que tipo de llamada realizaste: \"))\n",
        "min=int(input(\"Ingresa los minutos que duro la llamada: \"))\n",
        "if(op==1):\n",
        "  subtotal=min*3\n",
        "  iva=subtotal*.16\n",
        "  total=subtotal+iva\n",
        "else:\n",
        "  if(op==2):\n",
        "    if(min>3):\n",
        "      extra=min-3\n",
        "      subtotal=(min*7)+(extra*2)\n",
        "      iva=subtotal*.16\n",
        "      total=subtotal+iva\n",
        "    else:\n",
        "      subtotal=min*7\n",
        "      iva=subtotal*.16\n",
        "      total=subtotal+iva\n",
        "  else:\n",
        "    if(op==3):\n",
        "      if(min>2):\n",
        "        extra=min-2\n",
        "        subtotal=(min*9)+(extra*4)\n",
        "        iva=subtotal*.16\n",
        "        total=subtotal+iva\n",
        "      else:\n",
        "        subtotal=min*9\n",
        "        iva=subtotal*.16\n",
        "        total=subtotal+iva\n",
        "print(\"El subtotal de la llamada fue de: \",subtotal,\"Pesos\")\n",
        "print(\"El iva de la llamada fue de: \",iva,\"Pesos\")\n",
        "print(\"El total de la llamada fue de: \",total,\"Pesos\")"
      ],
      "metadata": {
        "colab": {
          "base_uri": "https://localhost:8080/",
          "height": 0
        },
        "id": "bMojVKc8-Wb1",
        "outputId": "f54514fb-ab2d-43b9-8a85-b728e97f166c"
      },
      "execution_count": 24,
      "outputs": [
        {
          "output_type": "stream",
          "name": "stdout",
          "text": [
            "M E N U \n",
            "1. LLAMADA LOCAL\n",
            "2. LLAMADA NACIONAL\n",
            "3. LLAMADA INTERNACIONAL\n",
            "Escoge que tipo de llamada realizaste: 1\n",
            "Ingresa los minutos que duro la llamada: 7\n",
            "El subtotal de la llamada fue de:  21 Pesos\n",
            "El iva de la llamada fue de:  3.36 Pesos\n",
            "El total de la llamada fue de:  24.36 Pesos\n"
          ]
        }
      ]
    },
    {
      "cell_type": "markdown",
      "source": [
        "ACTIVIDAD 3\n",
        "\n",
        "Algoritmo que sirva para el juego del CHINCHAMPU (Piedra, Papel, Tijera) para 1 jugador y la computadora, (usar condición anidada)\n",
        "\n",
        "Misael Antonio Corral Abris\n",
        "\n",
        "29 de Agosto del 2023\n"
      ],
      "metadata": {
        "id": "XyguD70MJ1cr"
      }
    },
    {
      "cell_type": "code",
      "source": [
        "import random\n",
        "piedra=1\n",
        "papel=2\n",
        "tijera=3\n",
        "print(\"B I E N V E N I D O\")\n",
        "print(\"1. PIEDRA\")\n",
        "print(\"2. PAPEL\")\n",
        "print(\"3. TIJERAS\")\n",
        "j1=int(input(\"Escoge una de las opciones (1-3):\"))\n",
        "pc= random.randint(1,3)\n",
        "print(\"Jugador 1 escogio:\",j1,\"Y la maquina escogio:\",pc)\n",
        "if j1==pc:\n",
        "  print(\"Esto es un empate \")\n",
        "else:\n",
        "  if j1==piedra:\n",
        "    if pc==papel:\n",
        "      print(\"La maquina ha ganado\")\n",
        "      print(\"Papel gana a Piedra\")\n",
        "    else:\n",
        "      print(\"Jugador 1 ha ganado, felicidades\")\n",
        "      print(\"Piedra gana a Tijera\")\n",
        "  else:\n",
        "    if j1==papel:\n",
        "      if pc==piedra:\n",
        "        print(\"Jugador 1 ha ganado, felicidades\")\n",
        "        print(\"Papel gana a Piedra\")\n",
        "      else:\n",
        "        print(\"La maquina ha ganado, 8(\")\n",
        "        print(\"Tijeras gana a Papel\")\n",
        "    else:\n",
        "      if pc==piedra:\n",
        "        print(\"La maquina ha ganado\")\n",
        "        print(\"Piedra gana a Tijera\")\n",
        "      else:\n",
        "        print(\"Jugador 1 ha ganado, felicidades\")\n",
        "        print(\"Tijera gana a Papel\")"
      ],
      "metadata": {
        "colab": {
          "base_uri": "https://localhost:8080/",
          "height": 0
        },
        "id": "q9iXLv5Y-ZpZ",
        "outputId": "05046a77-3103-4075-b3cc-86d1f980e91e"
      },
      "execution_count": 25,
      "outputs": [
        {
          "output_type": "stream",
          "name": "stdout",
          "text": [
            "B I E N V E N I D O\n",
            "1. PIEDRA\n",
            "2. PAPEL\n",
            "3. TIJERAS\n",
            "Escoge una de las opciones (1-3):3\n",
            "Jugador 1 escogio: 3 Y la maquina escogio: 2\n",
            "Jugador 1 ha ganado, felicidades\n",
            "Tijera gana a Papel\n"
          ]
        }
      ]
    },
    {
      "cell_type": "markdown",
      "source": [
        "ACTIVIDAD 3\n",
        "\n",
        "Algoritmo que sirva para el juego del CHINCHAMPU (Piedra, Papel, Tijera) para 1 jugador y la computadora, (usar selección múltiple)\n",
        "\n",
        "Misael Antonio Corral Abris\n",
        "\n",
        "29 de Agosto del 2023"
      ],
      "metadata": {
        "id": "gz5VV4NAJ-le"
      }
    },
    {
      "cell_type": "code",
      "source": [
        "import random\n",
        "piedra=1\n",
        "papel=2\n",
        "tijeras=3\n",
        "print(\"B I E N V E N I D O\")\n",
        "print(\"1. PIEDRA\")\n",
        "print(\"2. PAPEL\")\n",
        "print(\"3. TIJERAS\")\n",
        "j1=int(input(\"Escoge una de las opciones (1-3):\"))\n",
        "pc= random.randint(1,3)\n",
        "print(\"Jugador 1 escogio:\",j1,\"Y la maquina escogio:\",pc)\n",
        "if j1==pc:\n",
        "  print(\"El resultado fue un empate\")\n",
        "elif j1 == piedra:\n",
        "  if pc==papel:\n",
        "    print(\"La maquina termino ganadora\")\n",
        "    print(\"Papel gana a Piedra\")\n",
        "  else:\n",
        "    print(\"Jugador 1 termino ganador\")\n",
        "    print(\"Piedra gana a Tijeras\")\n",
        "elif j1==papel:\n",
        "  if pc==piedra:\n",
        "    print(\"El jugador 1 termino ganador\")\n",
        "  else:\n",
        "    print(\"La maquina termino ganadora\")\n",
        "    print(\"Tijeras gana a Papel\")\n",
        "else:\n",
        "  if pc==piedra:\n",
        "    print(\"La maquina termino ganando\")\n",
        "    print(\"Piedra gana a Tijera\")\n",
        "  else:\n",
        "    print(\"El jugador 1 termino ganando\")\n",
        "    print(\"Tijera gana a Papel\")"
      ],
      "metadata": {
        "colab": {
          "base_uri": "https://localhost:8080/",
          "height": 0
        },
        "id": "VDRKZrfB-gjO",
        "outputId": "8b2fc948-424f-4a37-9d4f-53e6dcc6fc44"
      },
      "execution_count": 26,
      "outputs": [
        {
          "output_type": "stream",
          "name": "stdout",
          "text": [
            "B I E N V E N I D O\n",
            "1. PIEDRA\n",
            "2. PAPEL\n",
            "3. TIJERAS\n",
            "Escoge una de las opciones (1-3):1\n",
            "Jugador 1 escogio: 1 Y la maquina escogio: 2\n",
            "La maquina termino ganadora\n",
            "Papel gana a Piedra\n"
          ]
        }
      ]
    },
    {
      "cell_type": "markdown",
      "source": [
        "ACTIVIDAD 3\n",
        "\n",
        "Una tienda de electrónica ofrece descuentos a sus clientes, dependiendo del tipo de producto que compren. Si el cliente compra una computadora, tiene un descuento del 5% en el precio de la computadora y un 10% de descuento en una impresora si la compra junto con la computadora. Si el cliente compra una televisión, tiene un descuento del 7% en el precio de la televisión y un 15% de descuento en una barra de sonido si la compra junto con la televisión. Si el cliente compra una consola de videojuegos, tiene un descuento del 10% en el precio de la consola y un 20% de descuento en un juego si lo compra junto con la consola. Escribe un programa que calcule el precio a pagar por un cliente, tomando en cuenta los descuentos correspondientes.\n",
        "\n",
        "Misael Antonio Corral Abris\n",
        "\n",
        "29 de Agosto del 2023"
      ],
      "metadata": {
        "id": "7_jTWev8KHiK"
      }
    },
    {
      "cell_type": "code",
      "execution_count": null,
      "metadata": {
        "colab": {
          "base_uri": "https://localhost:8080/"
        },
        "id": "D-6Z207xo9Pv",
        "outputId": "6b950ed5-b57a-422b-ecaf-ebaeb1d16d53"
      },
      "outputs": [
        {
          "output_type": "stream",
          "name": "stdout",
          "text": [
            "-----------ARTICULOS-------------\n",
            "1.Computadora\n",
            "2.Impresora\n",
            "3.Television\n",
            "4.Barra de Sonido\n",
            "5.Consola\n",
            "6.Juegos\n",
            "---------------------------------\n",
            "Escoge una de las opciones1\n",
            "Haz escogido otro producto? Si es asi por favor de marcarlo:2\n",
            "Tu total a pagar por la computadora y a impresora son: 5250.0\n"
          ]
        }
      ],
      "source": [
        "comp = 5000\n",
        "imp = 2500\n",
        "tv = 7000\n",
        "son = 1500\n",
        "con = 3500\n",
        "jue = 600\n",
        "print(\"-----------ARTICULOS-------------\")\n",
        "print(\"1.Computadora\")\n",
        "print(\"2.Impresora\")\n",
        "print(\"3.Television\")\n",
        "print(\"4.Barra de Sonido\")\n",
        "print(\"5.Consola\")\n",
        "print(\"6.Juegos\")\n",
        "print(\"---------------------------------\")\n",
        "op=int(input(\"Escoge una de las opciones\"))\n",
        "op2=int(input(\"Haz escogido otro producto? Si es asi por favor de marcarlo:\"))\n",
        "if op == 1 and op2 == 2:\n",
        "  imp = 2500 * 0.1\n",
        "  total = comp + imp\n",
        "  print(f\"Tu total a pagar por la computadora y a impresora son: {total}\")\n",
        "elif op == 1:\n",
        "  desc = 5000 * 0.05\n",
        "  total = comp - desc\n",
        "  print(\"Solo seleccionaste la computadora, se aplicara el descuento de la computadora\")\n",
        "  print(f\"Tu total a pagar es: {total}\")\n",
        "elif op == 3 and op2 == 4:\n",
        "  desc = tv * 0.07\n",
        "  desc_2 = son * 0.15\n",
        "  descT = desc + desc_2\n",
        "  total = (tv + son) - descT\n",
        "  print(f\"Tu total a pagar para las dos cosas son: {total}\")\n",
        "elif op == 3:\n",
        "  desc = tv * 0.07\n",
        "  total = tv - desc\n",
        "  print(f\"Tu total a pagar por la television es: {total}\")\n",
        "elif op == 5 and op2 == 6:\n",
        "  desc = con * 0.1\n",
        "  desc_2 = jue * 0.2\n",
        "  descT = desc + desc_2\n",
        "  total = (con + jue) - descT\n",
        "  print(f\"Tu total a pagar es el siguiente:{total}\")\n",
        "else:\n",
        "  desc = con * 0.1\n",
        "  total = con - desc\n",
        "  print(f\"Tu total a pagar es: {total}\")"
      ]
    },
    {
      "cell_type": "markdown",
      "source": [
        "ACTIVIDAD 3\n",
        "\n",
        "En una tienda de ropa, los precios de los productos cambian dependiendo de la temporada. Durante la temporada de verano, todos los productos tienen un descuento del 20%. Durante la temporada de invierno, los productos con etiqueta roja tienen un descuento del 30% y los productos con etiqueta verde tienen un descuento del 15%. Durante la temporada de primavera y otoño, los productos con etiqueta amarilla tienen un descuento del 10%. Escribe un programa que calcule el precio a pagar por un cliente, tomando en cuenta los descuentos correspondientes.\n",
        "\n",
        "Misael Antonio Corral Abris\n",
        "\n",
        "29 de Agosto del 2023"
      ],
      "metadata": {
        "id": "3gjflsKeKSO4"
      }
    },
    {
      "cell_type": "code",
      "source": [
        "cam = 100\n",
        "pan = 650\n",
        "zap = 900\n",
        "print(\"---------------ARTICULOS-------------\")\n",
        "print(\"1-----Camisetas--------\")\n",
        "print(\"2-----Pantalones---------\")\n",
        "print(\"3-----Zapatos-------------\")\n",
        "print(\"-------------------------------------\")\n",
        "op = int(input(\"Escoga ddel 1 - 4 una de las siguientes productos: \"))\n",
        "etq = input(\"Que etiqueta tiene el prodcuto (Amarilla, roja , verde): \")\n",
        "print(\"-------Temporadas----------\")\n",
        "print(\"--------Temporada de Verano------\")\n",
        "print(\"--------Temporada de Invierno-----\")\n",
        "print(\"-------Temporada de primavera----\")\n",
        "print(\"-------Temporada de Otoño--------\")\n",
        "op2 = input(\"Escoga la temporada donde esta: \")\n",
        "desc = 0\n",
        "if op2 == \"verano\":\n",
        "  print(\"Todos los articulos de esta temporada tienen descuento\")\n",
        "  if op == 1:\n",
        "    desc = cam * 0.2\n",
        "    total = cam - desc\n",
        "  elif op == 2:\n",
        "    desc = pan * 0.2\n",
        "    total = pan - desc\n",
        "  elif op == 3:\n",
        "    desc = zap * 0.2\n",
        "    total = zap - desc\n",
        "elif op2 == \"invierno\":\n",
        "  if etq == \"roja\":\n",
        "    print(\"Los productos con etiqueta roja tiene descuento\")\n",
        "    if op == 1:\n",
        "     desc = cam * 0.3\n",
        "     total = cam - desc\n",
        "    elif op == 2:\n",
        "     desc = pan * 0.3\n",
        "     total = pan - desc\n",
        "    elif op == 3:\n",
        "     desc = zap * 0.3\n",
        "     total = zap - desc\n",
        "  elif etq == \"verde\":\n",
        "    print(\"Los products con etiqueta verde tiene descuento\")\n",
        "    if op == 1:\n",
        "     desc = cam * 0.15\n",
        "     total = cam - desc\n",
        "    elif op == 2:\n",
        "     desc = pan * 0.15\n",
        "     total = pan - desc\n",
        "    elif op == 3:\n",
        "     desc = zap * 0.15\n",
        "     total = zap - desc\n",
        "  else:\n",
        "    if op == 1:\n",
        "     total = cam\n",
        "    elif op == 2:\n",
        "     total = pan\n",
        "    elif op == 3:\n",
        "     total = zap\n",
        "elif op2 == \"primavera\" or \"otoño\":\n",
        "  if etq == \"amarilla\":\n",
        "      print(\"Los productos tienen un descuento con la etiqueta amarilla\")\n",
        "      if op == 1:\n",
        "        desc = cam * 0.1\n",
        "        total = cam - desc\n",
        "      elif op == 2:\n",
        "         desc = pan * 0.1\n",
        "         total = pan - desc\n",
        "      elif op == 3:\n",
        "         desc = zap * 0.1\n",
        "         total = zap - desc\n",
        "      else:\n",
        "         if op == 1:\n",
        "          total = cam\n",
        "         elif op == 2:\n",
        "          total = pan\n",
        "         elif op == 3:\n",
        "          total = zap\n",
        "print(f\"Tu total a pagar es: {total}\")"
      ],
      "metadata": {
        "id": "EERt92Kd5Hwe",
        "colab": {
          "base_uri": "https://localhost:8080/"
        },
        "outputId": "a49664f5-a628-4a35-8522-2ab23e370dc7"
      },
      "execution_count": null,
      "outputs": [
        {
          "output_type": "stream",
          "name": "stdout",
          "text": [
            "---------------ARTICULOS-------------\n",
            "1-----Camisetas--------\n",
            "2-----Pantalones---------\n",
            "3-----Zapatos-------------\n",
            "-------------------------------------\n",
            "Escoga ddel 1 - 4 una de las siguientes productos: 3\n",
            "Que etiqueta tiene el prodcuto (Amarilla, roja , verde): amarilla\n",
            "-------Temporadas----------\n",
            "--------Temporada de Verano------\n",
            "--------Temporada de Invierno-----\n",
            "-------Temporada de primavera----\n",
            "-------Temporada de Otoño--------\n",
            "Escoga la temporada donde esta: primavera\n",
            "Los productos tienen un descuento con la etiqueta amarilla\n",
            "Tu total a pagar es: 810.0\n"
          ]
        }
      ]
    },
    {
      "cell_type": "markdown",
      "source": [
        "ACTIVIDAD 3\n",
        "\n",
        "Un restaurante ofrece descuentos a sus clientes, dependiendo del día de la semana y del tipo de menú que pidan. Los lunes, los clientes que pidan el menú del día tienen un descuento del 10%. Los martes, los clientes que pidan el menú infantil tienen un descuento del 20%. Los miércoles, los clientes que pidan el menú vegetariano tienen un descuento del 15%. Los jueves, los clientes que pidan el menú del chef tienen un descuento del 5%. Los viernes, los clientes que pidan el menú del día tienen un descuento del 5%. Los sábados y domingos no hay descuentos. Escribe un programa que calcule el precio a pagar por un cliente, tomando en cuenta los descuentos correspondientes.\n",
        "\n",
        "Misael Antonio Corral Abris\n",
        "\n",
        "29 de Agosto del 2023"
      ],
      "metadata": {
        "id": "D9zrUdMmKcgz"
      }
    },
    {
      "cell_type": "code",
      "source": [
        "Menu_Dia = 120\n",
        "Menu_Infa = 85\n",
        "Menu_Veg = 150\n",
        "Menu_Chef = 180\n",
        "print(\"------------MENU-------------\")\n",
        "print(\"1---------Menu del Dia-------\")\n",
        "print(\"2---------Menu Infantil-------\")\n",
        "print(\"3---------Menu Vegetariano-----\")\n",
        "print(\"4---------Menu del chef--------\")\n",
        "op = int(input(\"Escoga una e las opciones: \"))\n",
        "dia = input(\"En que dia se encuentra: \")\n",
        "if op == 1:\n",
        "  if dia == \"lunes\":\n",
        "    desc = Menu_Dia * 0.1\n",
        "    total = Menu_Dia - desc\n",
        "  elif op == 2:\n",
        "    total = Menu_Infa\n",
        "  elif op == 3:\n",
        "    total = Menu_Veg\n",
        "  elif op == 4:\n",
        "    total = Menu_Chef\n",
        "  elif dia == \"viernes\":\n",
        "    desc = Menu_Dia * 0.05\n",
        "    total = Menu_Dia - desc\n",
        "elif op == 2:\n",
        "  if dia == \"martes\":\n",
        "    desc = Menu_Infa * 0.2\n",
        "    total = Menu_Infa - desc\n",
        "  else:\n",
        "    total = Menu_Infa\n",
        "elif op == 3:\n",
        "  if dia == \"miercoles\":\n",
        "    desc = Menu_Veg * 0.15\n",
        "    total = Menu_Veg - desc\n",
        "  else:\n",
        "    total = Menu_Veg\n",
        "elif op == 4:\n",
        "  if dia == \"jueves\":\n",
        "    desc = Menu_Chef * 0.05\n",
        "    total = Menu_Chef - desc\n",
        "  else:\n",
        "    total = Menu_Chef\n",
        "\n",
        "\n",
        "\n",
        "print(f\"Tu total a pagar es: {total}\")"
      ],
      "metadata": {
        "colab": {
          "base_uri": "https://localhost:8080/",
          "height": 0
        },
        "id": "J1M99rJUKz_D",
        "outputId": "2c84d1be-4e24-402b-af73-9b84e1752638"
      },
      "execution_count": 31,
      "outputs": [
        {
          "output_type": "stream",
          "name": "stdout",
          "text": [
            "------------MENU-------------\n",
            "1---------Menu del Dia-------\n",
            "2---------Menu Infantil-------\n",
            "3---------Menu Vegetariano-----\n",
            "4---------Menu del chef--------\n",
            "Escoga una e las opciones: 1\n",
            "En que dia se encuentra: martes\n",
            "Tu total a pagar es: 24.36\n"
          ]
        }
      ]
    }
  ]
}