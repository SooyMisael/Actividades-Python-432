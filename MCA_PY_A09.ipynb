{
  "nbformat": 4,
  "nbformat_minor": 0,
  "metadata": {
    "colab": {
      "provenance": [],
      "authorship_tag": "ABX9TyP/BU9rdVZ2GCHP9Yt0OzWS",
      "include_colab_link": true
    },
    "kernelspec": {
      "name": "python3",
      "display_name": "Python 3"
    },
    "language_info": {
      "name": "python"
    }
  },
  "cells": [
    {
      "cell_type": "markdown",
      "metadata": {
        "id": "view-in-github",
        "colab_type": "text"
      },
      "source": [
        "<a href=\"https://colab.research.google.com/github/SooyMisael/Actividades-Python-432/blob/main/MCA_PY_A09.ipynb\" target=\"_parent\"><img src=\"https://colab.research.google.com/assets/colab-badge.svg\" alt=\"Open In Colab\"/></a>"
      ]
    },
    {
      "cell_type": "markdown",
      "source": [
        "ACTIVIDAD 9\n",
        "\n",
        "\n",
        "Realiza un programa en python que utilice el siguiente menu:\n",
        "\n",
        " MENU\n",
        "\n",
        " 1.- Crear Diccionario\n",
        "\n",
        " 2.- Imprimir Diccionario\n",
        "\n",
        " 0.- Salir\n",
        "\n",
        "\n",
        "\n",
        "CREAR DICCIIONARIO: funcion que retorne un diccionario con los datos de basicos de un alumno, donde se pide {id,nombre (1 O 2) , appaterno,apmaterno, edad,sexo}, El diccionario se debe generar automaticmanete a partir de listas.\n",
        "\n",
        "\n",
        "\n",
        "IMPRIMIR DICCIONARIO:  Funcion que reciba como parametro el diccionario, y le de una salida mostrando la informacion en forma de registro que se genero con el diccionario"
      ],
      "metadata": {
        "id": "1xezgeRKhcBK"
      }
    },
    {
      "cell_type": "code",
      "execution_count": 1,
      "metadata": {
        "id": "1x569hTNUg0H"
      },
      "outputs": [],
      "source": [
        "import random\n",
        "from tabulate import tabulate"
      ]
    },
    {
      "cell_type": "code",
      "source": [
        "dic={\"ID\":\"\",\"Nombre\":\"\",\"Apellido Materno\":\"\",\"Apellido Paterno\":\"\",\"Edad\":\"\",\"Sexo\":\"\"}"
      ],
      "metadata": {
        "id": "fuM9Cq-vUtr8"
      },
      "execution_count": 2,
      "outputs": []
    },
    {
      "cell_type": "code",
      "source": [
        "base=[]\n",
        "hombres=[\"HUGO\",\"MARTIN\",'LUCAS','MATEO','LEO','DANIEL','ALEJANDRO','DANIEL','ALVARO','ADRIAN','DAVID','MARIO','DIEGO','MARCOS','JAVIER']\n",
        "mujeres=[\"SOFIA\",\"LUCIA\",'MARIA','PAULA','DANIELA','VALERIA','JULIA','CLAUDIA','JIMENA','ROMINA','IRENE','MARTINA','SARA','LAURA','LUCY','ADELINE','ALICE','ELIZABETH','SAMANTHA','OLIVIA','AMALIA']\n",
        "appaterno=[\"ARENAS\", 'CARMONA','CORDOVA','DELGADO','FERNANDEZ','FUENTES','HERNANDEZ','MARTINEZ','MALDONADO','JUAREZ','HERRERA','LEON','GUERRERO','ORTIZ','REYES','VARGAS','ROMERO','PEREZ','NAVA','SALCEDO']\n",
        "apmaterno=[\"FLORES\",'ACOSTA','LUGO','RAMOS','GARCIA','HERNANDEZ','GONZALEZ','CARRILLO','TEJEDA','VARGAS','SANCHEZ','ESCALONA','CRUZ','HUERTA','SOSA','PERALTA','ESTRADA','CAMPOS','RIOS','MARCIAL']\n",
        "sexo=[\"Hombre\",\"Mujer\"]"
      ],
      "metadata": {
        "id": "MeJtdEz5VeyY"
      },
      "execution_count": 3,
      "outputs": []
    },
    {
      "cell_type": "code",
      "source": [
        "def generarnombre():\n",
        "    j=1\n",
        "    while j<=10:\n",
        "        sex=random.choice(sexo)\n",
        "        if sex==\"Hombre\":\n",
        "          base.append({\"ID\":random.randrange(3000,4000),\"Nombre\":random.choice(hombres),\"Apellido Paterno\":random.choice(appaterno),\"Apellido Materno\":random.choice(apmaterno),\"Edad\": random.randrange(18,60),\"Sexo\":\"Hombre\"})\n",
        "          j=j+1\n",
        "        else:\n",
        "          base.append({\"ID\":random.randrange(3000,4000),\"Nombre\":random.choice(mujeres),\"Apellido Paterno\":random.choice(appaterno),\"Apellido Materno\":random.choice(apmaterno),\"Edad\": random.randrange(18,60),\"Sexo\":\"Mujer\"})\n",
        "          j=j+1"
      ],
      "metadata": {
        "id": "_I_tm6CSVjFr"
      },
      "execution_count": 4,
      "outputs": []
    },
    {
      "cell_type": "code",
      "source": [
        "def imprimir(base):\n",
        "    print(tabulate(base))"
      ],
      "metadata": {
        "id": "JVw4_HhAHwuk"
      },
      "execution_count": 5,
      "outputs": []
    },
    {
      "cell_type": "code",
      "source": [
        "def menu():\n",
        "    while True:\n",
        "        print(\"M E N U\")\n",
        "        print(\"1. Generar Datos\")\n",
        "        print(\"2. Desplegar\")\n",
        "        print(\"0. Salir\")\n",
        "        try:\n",
        "            op=int(input(\"Ingrese una opcion: \"))\n",
        "            if op == 1:\n",
        "                generarnombre()\n",
        "            elif op == 2:\n",
        "                imprimir(base)\n",
        "            elif op == 0:\n",
        "                False\n",
        "                break\n",
        "        except:\n",
        "            continue\n",
        "menu()"
      ],
      "metadata": {
        "colab": {
          "base_uri": "https://localhost:8080/",
          "height": 0
        },
        "id": "L3tq7b_EY-rD",
        "outputId": "0bc69011-5c61-4bf0-f77f-cf80ed9da87f"
      },
      "execution_count": 6,
      "outputs": [
        {
          "name": "stdout",
          "output_type": "stream",
          "text": [
            "M E N U\n",
            "1. Generar Datos\n",
            "2. Desplegar\n",
            "0. Salir\n",
            "Ingrese una opcion: 1\n",
            "M E N U\n",
            "1. Generar Datos\n",
            "2. Desplegar\n",
            "0. Salir\n",
            "Ingrese una opcion: 2\n",
            "----  ---------  ---------  ---------  --  ------\n",
            "3449  ALEJANDRO  PEREZ      ESCALONA   24  Hombre\n",
            "3521  LUCY       FUENTES    RIOS       36  Mujer\n",
            "3226  SOFIA      REYES      LUGO       33  Mujer\n",
            "3156  IRENE      HERRERA    CAMPOS     22  Mujer\n",
            "3710  MARTIN     MARTINEZ   SOSA       57  Hombre\n",
            "3649  DAVID      LEON       CARRILLO   23  Hombre\n",
            "3677  LUCY       ROMERO     GARCIA     40  Mujer\n",
            "3137  ADELINE    GUERRERO   PERALTA    38  Mujer\n",
            "3761  MARIO      FERNANDEZ  GARCIA     53  Hombre\n",
            "3488  PAULA      REYES      HERNANDEZ  54  Mujer\n",
            "----  ---------  ---------  ---------  --  ------\n",
            "M E N U\n",
            "1. Generar Datos\n",
            "2. Desplegar\n",
            "0. Salir\n",
            "Ingrese una opcion: 0\n"
          ]
        }
      ]
    }
  ]
}