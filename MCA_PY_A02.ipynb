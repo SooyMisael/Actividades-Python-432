{
  "nbformat": 4,
  "nbformat_minor": 0,
  "metadata": {
    "colab": {
      "provenance": [],
      "authorship_tag": "ABX9TyPWlW+mD/+j+xDjTNwGHPx2",
      "include_colab_link": true
    },
    "kernelspec": {
      "name": "python3",
      "display_name": "Python 3"
    },
    "language_info": {
      "name": "python"
    }
  },
  "cells": [
    {
      "cell_type": "markdown",
      "metadata": {
        "id": "view-in-github",
        "colab_type": "text"
      },
      "source": [
        "<a href=\"https://colab.research.google.com/github/SooyMisael/Actividades-Python-432/blob/main/MCA_PY_A02.ipynb\" target=\"_parent\"><img src=\"https://colab.research.google.com/assets/colab-badge.svg\" alt=\"Open In Colab\"/></a>"
      ]
    },
    {
      "cell_type": "markdown",
      "source": [
        "ACTIVIDAD 2\n",
        "\n",
        "Programa 1.\n",
        "\n",
        "Programa en Python que lea 2 numeros enteros, usar una condicion y analizar los dos numeros y desplegar cual de los numeros es el mayor.\n",
        "\n",
        "Misael Antonio Corral Abris\n",
        "\n",
        "22 de Agosto del 2023"
      ],
      "metadata": {
        "id": "N8QqEYj849-z"
      }
    },
    {
      "cell_type": "code",
      "execution_count": null,
      "metadata": {
        "colab": {
          "base_uri": "https://localhost:8080/"
        },
        "id": "S-0DzU_GAITb",
        "outputId": "33f983db-0026-4cab-c6a7-b0531868b2c7"
      },
      "outputs": [
        {
          "output_type": "stream",
          "name": "stdout",
          "text": [
            "Ingrese un numero:12\n",
            "Ingrese un numero 2:1\n",
            "El numero 1 es mayor que el numero 2: 12\n"
          ]
        }
      ],
      "source": [
        "num1=int(input(\"Ingrese un numero:\"))\n",
        "num2=int(input(\"Ingrese un numero 2:\"))\n",
        "if num1 > num2:\n",
        "  print(f\"El numero 1 es mayor que el numero 2: {num1}\")\n",
        "if num2 > num1:\n",
        "  print(f\"El numero 2 es mayor que el numero 1: {num2}\")"
      ]
    },
    {
      "cell_type": "markdown",
      "source": [
        "ACTIVIDAD 2\n",
        "\n",
        "Programa 2\n",
        "\n",
        "Programa en PythonAlgoritmo que lea 4 calificaciones de un alumno, calcular y desplegar el promedio acompañado de la leyenda \"APROBADO\" o \"REPROBADO\"\n",
        "\n",
        "Misael Antonio Corral Abris\n",
        "\n",
        "22 de Agosto del 2023"
      ],
      "metadata": {
        "id": "Ns8gcqVJ5emd"
      }
    },
    {
      "cell_type": "code",
      "source": [
        "cal1=int(input(\"Ingrese la calificacion 1:\"))\n",
        "cal2=int(input(\"Ingrese la calificacion 2:\"))\n",
        "cal3=int(input(\"ingrese la calificacion 3:\"))\n",
        "cal4=int(input(\"Ingrese a calificacion 4:\"))\n",
        "prom=(cal1 + cal2 + cal3 + cal4) / 4\n",
        "if prom > 60:\n",
        "  print(f\"Tu promedio fue de: {prom}, estas aprobado\")\n",
        "if prom < 60:\n",
        "  print(f\"Tu promedio fue de: {prom}, estas reprobado\")"
      ],
      "metadata": {
        "colab": {
          "base_uri": "https://localhost:8080/"
        },
        "id": "JYpw4C4lBtWl",
        "outputId": "0cca108b-bd20-4193-89d1-621f17f688e8"
      },
      "execution_count": null,
      "outputs": [
        {
          "output_type": "stream",
          "name": "stdout",
          "text": [
            "Ingrese la calificacion 1:90\n",
            "Ingrese la calificacion 2:100\n",
            "ingrese la calificacion 3:89\n",
            "Ingrese a calificacion 4:80\n",
            "Tu promedio fue de: 89.75, estas aprobado\n"
          ]
        }
      ]
    },
    {
      "cell_type": "markdown",
      "source": [
        "ACTIVIDAD 2\n",
        "\n",
        "Programa 3\n",
        "\n",
        "Programa en PythonAlgoritmo que a través de opciones (1.- HOMBRE 2.- MUJER ) preguntar al usuario cual es su sexo y desplegar la leyenda “HOMBRE ”, “MUJER”\n",
        "\n",
        "Misael Antonio Corral Abris\n",
        "\n",
        "22 de Agosto del 2023"
      ],
      "metadata": {
        "id": "06PbQvwY5v_v"
      }
    },
    {
      "cell_type": "code",
      "source": [
        "print(\"************ BIENVENIDO **************\")\n",
        "print(\"[1]. HOMBRE\")\n",
        "print(\"[2]. MUJER\")\n",
        "op=int(input(\"Escoge una de las opciones 1-2:\"))\n",
        "if op == 1:\n",
        "  print(\"HOMBRE\")\n",
        "if op == 2:\n",
        "  print(\"MUJER\")"
      ],
      "metadata": {
        "colab": {
          "base_uri": "https://localhost:8080/"
        },
        "id": "Gpd3AjlqCv0f",
        "outputId": "49c183c9-5c25-4b3e-a4a8-359f45e1ef78"
      },
      "execution_count": null,
      "outputs": [
        {
          "output_type": "stream",
          "name": "stdout",
          "text": [
            "************ BIENVENIDO **************\n",
            "[1]. HOMBRE\n",
            "[2]. MUJER\n",
            "Escoge una de las opciones 1-2:2\n",
            "MUJER\n"
          ]
        }
      ]
    },
    {
      "cell_type": "markdown",
      "source": [
        "ACTIVIDAD 2\n",
        "\n",
        "Programa 4.\n",
        "\n",
        "Programa en Python que lea un número entero, y desplegar si el número es “PAR” o “IMPAR”\n",
        "\n",
        "Misael Antonio Corral Abris\n",
        "\n",
        "22 de Agosto del 2023"
      ],
      "metadata": {
        "id": "JidcwGR356mJ"
      }
    },
    {
      "cell_type": "code",
      "source": [
        "num=int(input(\"Ingrese un numero:\"))\n",
        "if num % 2 == 0:\n",
        "  print(\"Tu numero es par\")\n",
        "if num % 3 == 0:\n",
        "  print(\"Tu numero es impar\")"
      ],
      "metadata": {
        "colab": {
          "base_uri": "https://localhost:8080/"
        },
        "id": "MyDp31T7DiEs",
        "outputId": "4c5333be-0335-4767-ed9e-f9029fec8dbe"
      },
      "execution_count": null,
      "outputs": [
        {
          "output_type": "stream",
          "name": "stdout",
          "text": [
            "Ingrese un numero:4\n",
            "Tu numero es par\n"
          ]
        }
      ]
    },
    {
      "cell_type": "markdown",
      "source": [
        "ACTIVIDAD 2\n",
        "\n",
        "Programa 5. Condiciones compuestas\n",
        "\n",
        "Programa en Python que lea 2 números enteros, usar una condición y analizar los dos números y desplegar cual de los números es el mayor.\n",
        "\n",
        "Misael Antonio Corral Abris\n",
        "\n",
        "22 de Agosto del 2023"
      ],
      "metadata": {
        "id": "Xkj-cxbG6Dvd"
      }
    },
    {
      "cell_type": "code",
      "source": [
        "num1=int(input(\"Ingrese un numero:\"))\n",
        "num2=int(input(\"Ingrese un numero 2:\"))\n",
        "if num1 > num2:\n",
        "  print(f\"El numero 1 es mayor que el numero 2: {num1}\")\n",
        "else:\n",
        "  print(f\"El numero 2 es mayor que el numero 1: {num2}\")"
      ],
      "metadata": {
        "colab": {
          "base_uri": "https://localhost:8080/"
        },
        "id": "UEJqmKW1EpEu",
        "outputId": "cf3c7181-3d8b-4e4e-8cc8-c8967815911a"
      },
      "execution_count": null,
      "outputs": [
        {
          "output_type": "stream",
          "name": "stdout",
          "text": [
            "Ingrese un numero:1\n",
            "Ingrese un numero 2:2\n",
            "El numero 2 es mayor que el numero 1: 2\n"
          ]
        }
      ]
    },
    {
      "cell_type": "markdown",
      "source": [
        "ACTIVIDAD 2\n",
        "\n",
        "Programa 6. Condiciones compuestas\n",
        "\n",
        "Programa en Python que lea 4 calificaciones de un alumno, calcular y desplegar el promedio acompañado de la leyenda APROBADO o REPROBADO\n",
        "\n",
        "Misael Antonio Corral Abris\n",
        "\n",
        "22 de Agosto del 2023"
      ],
      "metadata": {
        "id": "2-33X7aH6ROk"
      }
    },
    {
      "cell_type": "code",
      "source": [
        "cal1=int(input(\"Ingrese la calificacion 1:\"))\n",
        "cal2=int(input(\"Ingrese la calificacion 2:\"))\n",
        "cal3=int(input(\"ingrese la calificacion 3:\"))\n",
        "cal4=int(input(\"Ingrese a calificacion 4:\"))\n",
        "prom=(cal1 + cal2 + cal3 + cal4) / 4\n",
        "if prom > 60:\n",
        "  print(f\"Tu promedio fue de: {prom}, estas aprobado\")\n",
        "else:\n",
        "  print(f\"Tu promedio fue de: {prom}, estas reprobado\")"
      ],
      "metadata": {
        "colab": {
          "base_uri": "https://localhost:8080/"
        },
        "id": "KAf91Vk4E_Z1",
        "outputId": "1255a4d0-0eeb-47fc-b35b-f445089eb1c5"
      },
      "execution_count": null,
      "outputs": [
        {
          "output_type": "stream",
          "name": "stdout",
          "text": [
            "Ingrese la calificacion 1:80\n",
            "Ingrese la calificacion 2:90\n",
            "ingrese la calificacion 3:100\n",
            "Ingrese a calificacion 4:100\n",
            "Tu promedio fue de: 92.5, estas aprobado\n"
          ]
        }
      ]
    },
    {
      "cell_type": "markdown",
      "source": [
        "ACTIVIDAD 2\n",
        "\n",
        "Programa 7. Condiciones compuestas\n",
        "\n",
        "Programa en Python que a través de opciones (1.- HOMBRE 2.- MUJER ) preguntar al usuario cual es su sexo y desplegar la leyenda “HOMBRE ”, “MUJER”\n",
        "\n",
        "Misael Antonio Corral Abris\n",
        "\n",
        "22 de Agosto del 2023"
      ],
      "metadata": {
        "id": "j6Cfl62N6cf4"
      }
    },
    {
      "cell_type": "code",
      "source": [
        "print(\"************ BIENVENIDO **************\")\n",
        "print(\"[1]. HOMBRE\")\n",
        "print(\"[2]. MUJER\")\n",
        "op=int(input(\"Escoge una de las opciones 1-2:\"))\n",
        "if op == 1:\n",
        "  print(\"HOMBRE\")\n",
        "else:\n",
        "  print(\"MUJER\")"
      ],
      "metadata": {
        "colab": {
          "base_uri": "https://localhost:8080/"
        },
        "id": "CD89a4B0FRqv",
        "outputId": "228ac563-7a89-40de-92f4-3c0e7f51a65c"
      },
      "execution_count": null,
      "outputs": [
        {
          "output_type": "stream",
          "name": "stdout",
          "text": [
            "************ BIENVENIDO **************\n",
            "[1]. HOMBRE\n",
            "[2]. MUJER\n",
            "Escoge una de las opciones 1-2:2\n",
            "MUJER\n"
          ]
        }
      ]
    },
    {
      "cell_type": "markdown",
      "source": [
        "ACTIVIDAD 2\n",
        "\n",
        "Programa 8. Condiciones compuestas\n",
        "\n",
        "Programa en Python que lea un número entero, y desplegar si el número es “PAR” o “IMPAR”\n",
        "\n",
        "Misael Antonio Corral Abris\n",
        "\n",
        "22 de Agosto del 2023"
      ],
      "metadata": {
        "id": "nEACg8jv6lND"
      }
    },
    {
      "cell_type": "code",
      "source": [
        "num=int(input(\"Ingrese un numero:\"))\n",
        "if num % 2 == 0:\n",
        "  print(\"Tu numero es par\")\n",
        "else:\n",
        "  print(\"Tu numero es impar\")"
      ],
      "metadata": {
        "colab": {
          "base_uri": "https://localhost:8080/"
        },
        "id": "___sjk2SFhyJ",
        "outputId": "ba9b453b-430d-4dba-b2ce-367a7fc5cf19"
      },
      "execution_count": null,
      "outputs": [
        {
          "output_type": "stream",
          "name": "stdout",
          "text": [
            "Ingrese un numero:5\n",
            "Tu numero es impar\n"
          ]
        }
      ]
    }
  ]
}