{
  "nbformat": 4,
  "nbformat_minor": 0,
  "metadata": {
    "colab": {
      "provenance": [],
      "authorship_tag": "ABX9TyN3FZgT7Q84WKpEB49I20H6",
      "include_colab_link": true
    },
    "kernelspec": {
      "name": "python3",
      "display_name": "Python 3"
    },
    "language_info": {
      "name": "python"
    }
  },
  "cells": [
    {
      "cell_type": "markdown",
      "metadata": {
        "id": "view-in-github",
        "colab_type": "text"
      },
      "source": [
        "<a href=\"https://colab.research.google.com/github/SooyMisael/Actividades-Python-432/blob/main/MCA_PY_A12.ipynb\" target=\"_parent\"><img src=\"https://colab.research.google.com/assets/colab-badge.svg\" alt=\"Open In Colab\"/></a>"
      ]
    },
    {
      "cell_type": "code",
      "execution_count": null,
      "metadata": {
        "colab": {
          "base_uri": "https://localhost:8080/"
        },
        "id": "MCp7gA2tzaKM",
        "outputId": "bb101cb8-5080-40d4-956d-c523ad8ceeef"
      },
      "outputs": [
        {
          "output_type": "stream",
          "name": "stdout",
          "text": [
            "Requirement already satisfied: pyyaml in /usr/local/lib/python3.10/dist-packages (6.0.1)\n"
          ]
        }
      ],
      "source": [
        "!pip install pyyaml"
      ]
    },
    {
      "cell_type": "code",
      "source": [
        "!pip install openpyxl"
      ],
      "metadata": {
        "colab": {
          "base_uri": "https://localhost:8080/"
        },
        "id": "BrhCBvvbD6ky",
        "outputId": "72c8f62c-7fa0-4fac-ab9d-f96a5dcaacc8"
      },
      "execution_count": null,
      "outputs": [
        {
          "output_type": "stream",
          "name": "stdout",
          "text": [
            "Requirement already satisfied: openpyxl in /usr/local/lib/python3.10/dist-packages (3.1.2)\n",
            "Requirement already satisfied: et-xmlfile in /usr/local/lib/python3.10/dist-packages (from openpyxl) (1.1.0)\n"
          ]
        }
      ]
    },
    {
      "cell_type": "code",
      "source": [
        "from IPython.display import clear_output\n",
        "from tabulate import tabulate\n",
        "import random\n",
        "import json\n",
        "import yaml\n",
        "import time\n",
        "import pandas as pd\n",
        "import os\n"
      ],
      "metadata": {
        "id": "Io47S6P6zv5J"
      },
      "execution_count": null,
      "outputs": []
    },
    {
      "cell_type": "code",
      "source": [
        "from google.colab import drive\n",
        "drive.mount('/content/drive')"
      ],
      "metadata": {
        "colab": {
          "base_uri": "https://localhost:8080/"
        },
        "id": "q-SD8uAn1Zkb",
        "outputId": "8fd67924-2b72-4f97-a2b2-e261a47a5336"
      },
      "execution_count": null,
      "outputs": [
        {
          "output_type": "stream",
          "name": "stdout",
          "text": [
            "Drive already mounted at /content/drive; to attempt to forcibly remount, call drive.mount(\"/content/drive\", force_remount=True).\n"
          ]
        }
      ]
    },
    {
      "cell_type": "code",
      "source": [
        "ruta = \"/content/drive/MyDrive/proyectos\""
      ],
      "metadata": {
        "id": "NlrwAvAt2QaF"
      },
      "execution_count": null,
      "outputs": []
    },
    {
      "cell_type": "code",
      "source": [
        "import sys\n",
        "sys.path.append(ruta)\n",
        "path = \"/content/drive/MyDrive/proyectos\""
      ],
      "metadata": {
        "id": "yYb14EIC2146"
      },
      "execution_count": null,
      "outputs": []
    },
    {
      "cell_type": "code",
      "source": [
        "dic = {\"ID\":\"\", \"Nombre\":\"\",\"Apellido Materno\":\"\",\"Apellido Paterno\":\"\",\"Sexo\":\"\",\"Edad\":\"\"}\n",
        "base=[]\n",
        "hombres=[\"HUGO\",\"MARTIN\",'LUCAS','MATEO','LEO','DANIEL','ALEJANDRO','DANIEL','ALVARO','ADRIAN','DAVID','MARIO','DIEGO','MARCOS','JAVIER']\n",
        "mujeres=[\"SOFIA\",\"LUCIA\",'MARIA','PAULA','DANIELA','VALERIA','JULIA','CLAUDIA','JIMENA','ROMINA','IRENE','MARTINA','SARA','LAURA','LUCY','ADELINE','ALICE','ELIZABETH','SAMANTHA','OLIVIA','AMALIA']\n",
        "appaterno=[\"ARENAS\", 'CARMONA','CORDOVA','DELGADO','FERNANDEZ','FUENTES','HERNANDEZ','MARTINEZ','MALDONADO','JUAREZ','HERRERA','LEON','GUERRERO','ORTIZ','REYES','VARGAS','ROMERO','PEREZ','NAVA','SALCEDO']\n",
        "apmaterno=[\"FLORES\",'ACOSTA','LUGO','RAMOS','GARCIA','HERNANDEZ','GONZALEZ','CARRILLO','TEJEDA','VARGAS','SANCHEZ','ESCALONA','CRUZ','HUERTA','SOSA','PERALTA','ESTRADA','CAMPOS','RIOS','MARCIAL']\n",
        "sexo=[\"Hombre\",\"Mujer\"]"
      ],
      "metadata": {
        "id": "ktmzkN043mSX"
      },
      "execution_count": null,
      "outputs": []
    },
    {
      "cell_type": "code",
      "source": [
        "def generarnombre():\n",
        "    j=1\n",
        "    while j<=10:\n",
        "        sex=random.choice(sexo)\n",
        "        if sex==\"Hombre\":\n",
        "          base.append({\"ID\":random.randrange(0,1000),\"Nombre\":random.choice(hombres),\"Apellido Paterno\":random.choice(appaterno),\"Apellido Materno\":random.choice(apmaterno),\"Edad\": random.randrange(18,60),\"Sexo\":\"Hombre\"})\n",
        "          j=j+1\n",
        "        else:\n",
        "          base.append({\"ID\":random.randrange(0,1000),\"Nombre\":random.choice(mujeres),\"Apellido Paterno\":random.choice(appaterno),\"Apellido Materno\":random.choice(apmaterno),\"Edad\": random.randrange(18,60),\"Sexo\":\"Mujer\"})\n",
        "          j=j+1"
      ],
      "metadata": {
        "id": "pEEpY8PI3pJC"
      },
      "execution_count": null,
      "outputs": []
    },
    {
      "cell_type": "code",
      "source": [
        "def imprimirTabla():\n",
        "  print(tabulate(base))"
      ],
      "metadata": {
        "id": "s4AQN3fwFewq"
      },
      "execution_count": null,
      "outputs": []
    },
    {
      "cell_type": "code",
      "source": [
        "def eliminarLista():\n",
        "  base.clear()\n",
        "  print(\"Se eliminaron los datos de la lista\")"
      ],
      "metadata": {
        "id": "LMjDgg6mEQXN"
      },
      "execution_count": null,
      "outputs": []
    },
    {
      "cell_type": "code",
      "source": [
        "def busqueda():\n",
        "      bandera=True\n",
        "      buscar=int(input(\"Ingrese el ID: \"))\n",
        "      for h in base:\n",
        "        if buscar == h[\"ID\"]:\n",
        "          print(\"ID:\", h[\"ID\"])\n",
        "          print(\"Nombre:\", h[\"Nombre\"])\n",
        "          print(\"ap. paterno:\", h[\"Apellido Paterno\"])\n",
        "          print(\"ap. materno:\", h[\"Apellido Materno\"])\n",
        "          print(\"Edad:\", h[\"Edad\"])\n",
        "          print(\"Sexo:\", h[\"Sexo\"])\n",
        "          bandera=False\n",
        "      if bandera==True:\n",
        "          print(\"El ID que ingresaste no se encuentra\")"
      ],
      "metadata": {
        "id": "DPdOdivz3x7j"
      },
      "execution_count": null,
      "outputs": []
    },
    {
      "cell_type": "code",
      "source": [
        "def ordenar():\n",
        "    base.sort(key=lambda h: h[\"ID\"])\n",
        "    print(\"Se ha ordenado exitosamente\")"
      ],
      "metadata": {
        "id": "JL1B0ifB4F-D"
      },
      "execution_count": null,
      "outputs": []
    },
    {
      "cell_type": "code",
      "source": [
        "def eliminar():\n",
        "    bandera=True\n",
        "    elim=int(input(\"Ingese ID a eliminar:\"))\n",
        "    for e in base.copy():\n",
        "        if e[\"ID\"] == elim:\n",
        "            base.remove(e)\n",
        "            bandera=False\n",
        "    if bandera==True:\n",
        "        print(\"El ID ingresado fue eliminado\")"
      ],
      "metadata": {
        "id": "akOsAcIT4JRH"
      },
      "execution_count": null,
      "outputs": []
    },
    {
      "cell_type": "code",
      "source": [
        "def GenerarArchivo(base):\n",
        "  nombre_archi = input(\"Ingresa el nombre del archivo:\")\n",
        "  data = pd.DataFrame(base)\n",
        "  data.to_excel(f\"/content/drive/MyDrive/proyectos/{nombre_archi}.xlsx\", index=False)\n",
        "  data.to_csv(f\"/content/drive/MyDrive/proyectos/{nombre_archi}.csv\", index=False)\n",
        "  data.to_markdown(f\"/content/drive/MyDrive/proyectos/{nombre_archi}.md\", index=False)\n"
      ],
      "metadata": {
        "id": "OTrhXLi7BsDM"
      },
      "execution_count": null,
      "outputs": []
    },
    {
      "cell_type": "code",
      "source": [
        "def CargarArchivo():\n",
        "    print(\"MENU ARCHIVOS\")\n",
        "    print(\"1. Excel\")\n",
        "    print(\"2. Archivo de texto\")\n",
        "    print(\"3. CVS\")\n",
        "    print(\"4. Markdown\")\n",
        "    print(\"5. Inicio\")\n",
        "\n",
        "    try:\n",
        "      op = int(input(\"Escoge una de las opciones:\"))\n",
        "    except:\n",
        "      print(\"ERROS, OPCION NO VALIDA\")\n",
        "    else:\n",
        "      nombre = str(input(\"\\nNombre del archivo: \"))\n",
        "\n",
        "      if op == 1:\n",
        "        extension = nombre + \".xls\"\n",
        "\n",
        "      elif op == 2:\n",
        "        extension = nombre + \".txt\"\n",
        "\n",
        "      elif op == 3:\n",
        "        extension = nombre + \".cvs\"\n",
        "\n",
        "      elif op == 4:\n",
        "        extension = nombre + \".md\"\n",
        "\n",
        "      elif op == 5:\n",
        "        menu()\n",
        "\n",
        "      cont = base\n",
        "      try:\n",
        "        path = \"/content/drive/MyDrive/proyectos\" + \"/\" + extension\n",
        "      except FileNotFoundError:\n",
        "        print(\"\\n-No se encontro-\")"
      ],
      "metadata": {
        "id": "YCi6H7NqCrTb"
      },
      "execution_count": null,
      "outputs": []
    },
    {
      "cell_type": "code",
      "source": [
        "def imprimir(cont):\n",
        "    print(\"Contenido\")\n",
        "    print(cont)"
      ],
      "metadata": {
        "id": "WAE6GEU5F8i0"
      },
      "execution_count": null,
      "outputs": []
    },
    {
      "cell_type": "code",
      "source": [
        "def menu():\n",
        "    while True:\n",
        "        print(\"M E N U\")\n",
        "        print(\"1. Generar Datos\")\n",
        "        print(\"2. Eliminar {ID}\")\n",
        "        print(\"3. Imprimir\")\n",
        "        print(\"4. Buscar {ID}\")\n",
        "        print(\"5. Ordenar\")\n",
        "        print(\"6. Generar Archivo\")\n",
        "        print(\"7. Cargar Archivo\")\n",
        "        print(\"8. Imprimir Archivo\")\n",
        "        print(\"9. Borrar lista\")\n",
        "        print(\"0. Salir\")\n",
        "        try:\n",
        "            op=int(input(\"Ingrese una opcion: \"))\n",
        "            if op == 1:\n",
        "                generarnombre()\n",
        "            elif op == 2:\n",
        "                eliminar()\n",
        "            elif op == 3:\n",
        "                imprimirTabla()\n",
        "            elif op == 4:\n",
        "                busqueda()\n",
        "            elif op == 5:\n",
        "                ordenar()\n",
        "            elif op == 6:\n",
        "              GenerarArchivo(base)\n",
        "            elif op == 7:\n",
        "              CargarArchivo()\n",
        "            elif op == 8:\n",
        "              imprimir()\n",
        "            elif op == 9:\n",
        "              eliminarLista()\n",
        "            elif op == 0:\n",
        "                False\n",
        "                break\n",
        "        except:\n",
        "            continue\n",
        "menu()"
      ],
      "metadata": {
        "colab": {
          "base_uri": "https://localhost:8080/"
        },
        "id": "EjSvvgqfDwts",
        "outputId": "7f019562-3147-4d2f-d979-4aadf23921b4"
      },
      "execution_count": null,
      "outputs": [
        {
          "name": "stdout",
          "output_type": "stream",
          "text": [
            "M E N U\n",
            "1. Generar Datos\n",
            "2. Eliminar {ID}\n",
            "3. Imprimir\n",
            "4. Buscar {ID}\n",
            "5. Ordenar\n",
            "6. Generar Archivo\n",
            "7. Cargar Archivo\n",
            "8. Imprimir Archivo\n",
            "9. Borrar lista\n",
            "0. Salir\n",
            "Ingrese una opcion: 1\n",
            "M E N U\n",
            "1. Generar Datos\n",
            "2. Eliminar {ID}\n",
            "3. Imprimir\n",
            "4. Buscar {ID}\n",
            "5. Ordenar\n",
            "6. Generar Archivo\n",
            "7. Cargar Archivo\n",
            "8. Imprimir Archivo\n",
            "9. Borrar lista\n",
            "0. Salir\n",
            "Ingrese una opcion: 6\n",
            "Ingresa el nombre del archivo:ejemplito\n",
            "M E N U\n",
            "1. Generar Datos\n",
            "2. Eliminar {ID}\n",
            "3. Imprimir\n",
            "4. Buscar {ID}\n",
            "5. Ordenar\n",
            "6. Generar Archivo\n",
            "7. Cargar Archivo\n",
            "8. Imprimir Archivo\n",
            "9. Borrar lista\n",
            "0. Salir\n",
            "Ingrese una opcion: 7\n",
            "MENU ARCHIVOS\n",
            "1. Excel\n",
            "2. Archivo de texto\n",
            "3. CVS\n",
            "4. Markdown\n",
            "5. Inicio\n",
            "Escoge una de las opciones:4\n",
            "\n",
            "Nombre del archivo: ejemplito\n",
            "M E N U\n",
            "1. Generar Datos\n",
            "2. Eliminar {ID}\n",
            "3. Imprimir\n",
            "4. Buscar {ID}\n",
            "5. Ordenar\n",
            "6. Generar Archivo\n",
            "7. Cargar Archivo\n",
            "8. Imprimir Archivo\n",
            "9. Borrar lista\n",
            "0. Salir\n",
            "Ingrese una opcion: 8\n",
            "M E N U\n",
            "1. Generar Datos\n",
            "2. Eliminar {ID}\n",
            "3. Imprimir\n",
            "4. Buscar {ID}\n",
            "5. Ordenar\n",
            "6. Generar Archivo\n",
            "7. Cargar Archivo\n",
            "8. Imprimir Archivo\n",
            "9. Borrar lista\n",
            "0. Salir\n",
            "Ingrese una opcion: 9\n",
            "Se eliminaron los datos de la lista\n",
            "M E N U\n",
            "1. Generar Datos\n",
            "2. Eliminar {ID}\n",
            "3. Imprimir\n",
            "4. Buscar {ID}\n",
            "5. Ordenar\n",
            "6. Generar Archivo\n",
            "7. Cargar Archivo\n",
            "8. Imprimir Archivo\n",
            "9. Borrar lista\n",
            "0. Salir\n",
            "Ingrese una opcion: 0\n"
          ]
        }
      ]
    }
  ]
}